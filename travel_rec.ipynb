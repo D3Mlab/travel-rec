{
  "nbformat": 4,
  "nbformat_minor": 0,
  "metadata": {
    "colab": {
      "provenance": []
    },
    "kernelspec": {
      "name": "python3",
      "display_name": "Python 3"
    },
    "language_info": {
      "name": "python"
    }
  },
  "cells": [
    {
      "cell_type": "code",
      "source": [
        "!pip install openai"
      ],
      "metadata": {
        "colab": {
          "base_uri": "https://localhost:8080/"
        },
        "id": "begyne6d-3jg",
        "outputId": "e9def323-dd4d-4e28-fa36-69a6595cb94e"
      },
      "execution_count": 1,
      "outputs": [
        {
          "output_type": "stream",
          "name": "stdout",
          "text": [
            "Collecting openai\n",
            "  Downloading openai-0.28.1-py3-none-any.whl (76 kB)\n",
            "\u001b[?25l     \u001b[90m━━━━━━━━━━━━━━━━━━━━━━━━━━━━━━━━━━━━━━━━\u001b[0m \u001b[32m0.0/77.0 kB\u001b[0m \u001b[31m?\u001b[0m eta \u001b[36m-:--:--\u001b[0m\r\u001b[2K     \u001b[91m━━━━━━━━━━━━━━━━━━━━━━━━━━━━━━━━━━━━━\u001b[0m\u001b[90m╺\u001b[0m\u001b[90m━━\u001b[0m \u001b[32m71.7/77.0 kB\u001b[0m \u001b[31m2.0 MB/s\u001b[0m eta \u001b[36m0:00:01\u001b[0m\r\u001b[2K     \u001b[90m━━━━━━━━━━━━━━━━━━━━━━━━━━━━━━━━━━━━━━━━\u001b[0m \u001b[32m77.0/77.0 kB\u001b[0m \u001b[31m1.7 MB/s\u001b[0m eta \u001b[36m0:00:00\u001b[0m\n",
            "\u001b[?25hRequirement already satisfied: requests>=2.20 in /usr/local/lib/python3.10/dist-packages (from openai) (2.31.0)\n",
            "Requirement already satisfied: tqdm in /usr/local/lib/python3.10/dist-packages (from openai) (4.66.1)\n",
            "Requirement already satisfied: aiohttp in /usr/local/lib/python3.10/dist-packages (from openai) (3.8.5)\n",
            "Requirement already satisfied: charset-normalizer<4,>=2 in /usr/local/lib/python3.10/dist-packages (from requests>=2.20->openai) (3.2.0)\n",
            "Requirement already satisfied: idna<4,>=2.5 in /usr/local/lib/python3.10/dist-packages (from requests>=2.20->openai) (3.4)\n",
            "Requirement already satisfied: urllib3<3,>=1.21.1 in /usr/local/lib/python3.10/dist-packages (from requests>=2.20->openai) (2.0.4)\n",
            "Requirement already satisfied: certifi>=2017.4.17 in /usr/local/lib/python3.10/dist-packages (from requests>=2.20->openai) (2023.7.22)\n",
            "Requirement already satisfied: attrs>=17.3.0 in /usr/local/lib/python3.10/dist-packages (from aiohttp->openai) (23.1.0)\n",
            "Requirement already satisfied: multidict<7.0,>=4.5 in /usr/local/lib/python3.10/dist-packages (from aiohttp->openai) (6.0.4)\n",
            "Requirement already satisfied: async-timeout<5.0,>=4.0.0a3 in /usr/local/lib/python3.10/dist-packages (from aiohttp->openai) (4.0.3)\n",
            "Requirement already satisfied: yarl<2.0,>=1.0 in /usr/local/lib/python3.10/dist-packages (from aiohttp->openai) (1.9.2)\n",
            "Requirement already satisfied: frozenlist>=1.1.1 in /usr/local/lib/python3.10/dist-packages (from aiohttp->openai) (1.4.0)\n",
            "Requirement already satisfied: aiosignal>=1.1.2 in /usr/local/lib/python3.10/dist-packages (from aiohttp->openai) (1.3.1)\n",
            "Installing collected packages: openai\n",
            "Successfully installed openai-0.28.1\n"
          ]
        }
      ]
    },
    {
      "cell_type": "code",
      "execution_count": 20,
      "metadata": {
        "id": "q-i9Griq66MN",
        "colab": {
          "base_uri": "https://localhost:8080/"
        },
        "outputId": "edf27685-de69-4a4c-8221-7fb840b232cb"
      },
      "outputs": [
        {
          "name": "stdout",
          "output_type": "stream",
          "text": [
            "Enter OpenAI API key: ··········\n"
          ]
        }
      ],
      "source": [
        "import openai\n",
        "from getpass import getpass\n",
        "\n",
        "openai.api_key = getpass('Enter OpenAI API key: ')"
      ]
    },
    {
      "cell_type": "code",
      "source": [
        "def call_openai(prompt):\n",
        "  try:\n",
        "    response = openai.ChatCompletion.create(\n",
        "        model=\"gpt-3.5-turbo\",\n",
        "        messages=[\n",
        "            {\"role\": \"user\", \"content\": prompt}\n",
        "        ],\n",
        "        temperature=0\n",
        "    )\n",
        "    return response.get(\"choices\")[0].get(\"message\").get(\"content\")\n",
        "  except:\n",
        "    return ''"
      ],
      "metadata": {
        "id": "ugc2qCTHLR-3"
      },
      "execution_count": 3,
      "outputs": []
    },
    {
      "cell_type": "markdown",
      "source": [
        "# Caribbean beach destinations"
      ],
      "metadata": {
        "id": "dhSdIXLRAIC2"
      }
    },
    {
      "cell_type": "markdown",
      "source": [
        "## Approach 1: Generic - No Context"
      ],
      "metadata": {
        "id": "rhVKO-nfAxq1"
      }
    },
    {
      "cell_type": "code",
      "source": [
        "print(call_openai(\"Recommend some Caribbean beach destinations\"))"
      ],
      "metadata": {
        "colab": {
          "base_uri": "https://localhost:8080/"
        },
        "id": "ly-aC0kc9u2z",
        "outputId": "2df9f985-a52c-484a-c79f-4111ef29ffd0"
      },
      "execution_count": 21,
      "outputs": [
        {
          "output_type": "stream",
          "name": "stdout",
          "text": [
            "1. Punta Cana, Dominican Republic: Known for its stunning white-sand beaches and crystal-clear turquoise waters, Punta Cana offers a range of all-inclusive resorts and water activities such as snorkeling, scuba diving, and sailing.\n",
            "\n",
            "2. Negril, Jamaica: With its famous Seven Mile Beach, Negril is a laid-back destination known for its beautiful sunsets, reggae music, and vibrant beach bars. Visitors can also explore nearby attractions like the Blue Hole Mineral Spring and the Negril Lighthouse.\n",
            "\n",
            "3. Grace Bay, Turks and Caicos: Grace Bay Beach is consistently ranked among the world's best beaches, with its powdery white sand and calm, turquoise waters. The area offers luxury resorts, excellent snorkeling and diving opportunities, and a range of water sports.\n",
            "\n",
            "4. St. Lucia: This lush island in the eastern Caribbean is known for its dramatic landscapes, including the iconic Pitons. Visitors can relax on beautiful beaches like Anse Chastanet or explore the island's natural wonders, such as the Sulphur Springs and Diamond Falls.\n",
            "\n",
            "5. Barbados: With its vibrant culture, friendly locals, and stunning beaches, Barbados is a popular Caribbean destination. Visitors can enjoy activities like swimming with sea turtles, exploring Harrison's Cave, or simply relaxing on the island's pristine beaches.\n",
            "\n",
            "6. Aruba: Known for its year-round sunshine and constant trade winds, Aruba is a paradise for beach lovers. Palm Beach and Eagle Beach are two of the most popular spots, offering soft sand, clear waters, and a range of water sports.\n",
            "\n",
            "7. St. Thomas, U.S. Virgin Islands: St. Thomas is a popular cruise ship destination with beautiful beaches like Magens Bay and Sapphire Beach. Visitors can also explore historic sites like Blackbeard's Castle or take a ferry to nearby St. John for more secluded beaches.\n",
            "\n",
            "8. Antigua: With its 365 beaches (one for each day of the year), Antigua is a beach lover's dream. From the popular Dickenson Bay to the secluded Half Moon Bay, there is a beach to suit every taste. The island also offers opportunities for snorkeling, sailing, and exploring historic sites like Nelson's Dockyard.\n",
            "\n",
            "9. Grenada: Known as the \"Spice Isle,\" Grenada offers stunning beaches like Grand Anse, where visitors can relax, swim, and enjoy water sports. The island is also famous for its spice plantations, waterfalls, and the underwater sculpture park at Molinere Bay.\n",
            "\n",
            "10. Cayman Islands: The Cayman Islands are renowned for their crystal-clear waters and world-class diving opportunities. Seven Mile Beach on Grand Cayman is a popular spot for sunbathing and water sports, while Stingray City offers a unique chance to swim with friendly stingrays.\n"
          ]
        }
      ]
    },
    {
      "cell_type": "markdown",
      "source": [
        "Wide range of recommmendations supplemented with descriptive adjectives regarding the general vibe, somewhat like an advertisement. Automatically defaults to a \"top 10\" ranking."
      ],
      "metadata": {
        "id": "lVS3MeZWEkV5"
      }
    },
    {
      "cell_type": "code",
      "source": [
        "print(call_openai(\"List the most popular Caribbean beaches\"))"
      ],
      "metadata": {
        "colab": {
          "base_uri": "https://localhost:8080/"
        },
        "id": "Y5mONxYGHNwF",
        "outputId": "6d47e34e-13e2-46b3-e1a0-56a3e07d57bf"
      },
      "execution_count": 10,
      "outputs": [
        {
          "output_type": "stream",
          "name": "stdout",
          "text": [
            "1. Seven Mile Beach, Grand Cayman, Cayman Islands\n",
            "2. Grace Bay Beach, Providenciales, Turks and Caicos Islands\n",
            "3. Eagle Beach, Aruba\n",
            "4. Palm Beach, Aruba\n",
            "5. Varadero Beach, Cuba\n",
            "6. Negril Beach, Jamaica\n",
            "7. Trunk Bay, St. John, U.S. Virgin Islands\n",
            "8. Shoal Bay, Anguilla\n",
            "9. Crane Beach, Barbados\n",
            "10. Playa Flamenco, Culebra, Puerto Rico\n"
          ]
        }
      ]
    },
    {
      "cell_type": "markdown",
      "source": [
        "Structuring prompt to use the term 'list' removes the helpful descriptions that provided useful reasoning to the end user.  "
      ],
      "metadata": {
        "id": "_yTkg0eNnUon"
      }
    },
    {
      "cell_type": "code",
      "source": [
        "print(call_openai(\"Rank the top 10 best Caribbean beach destinations\"))"
      ],
      "metadata": {
        "colab": {
          "base_uri": "https://localhost:8080/"
        },
        "id": "H42RUXuloUa7",
        "outputId": "6c70f166-9508-4c5c-def9-2515fa9ab501"
      },
      "execution_count": 14,
      "outputs": [
        {
          "output_type": "stream",
          "name": "stdout",
          "text": [
            "1. Grace Bay, Turks and Caicos\n",
            "2. Seven Mile Beach, Grand Cayman\n",
            "3. Eagle Beach, Aruba\n",
            "4. Pink Sands Beach, Bahamas\n",
            "5. Trunk Bay, St. John, US Virgin Islands\n",
            "6. Shoal Bay, Anguilla\n",
            "7. Playa Flamenco, Culebra, Puerto Rico\n",
            "8. Crane Beach, Barbados\n",
            "9. Anse Chastanet, St. Lucia\n",
            "10. Palm Beach, Aruba\n"
          ]
        }
      ]
    },
    {
      "cell_type": "markdown",
      "source": [
        "When using the term 'ranking', beach destinations are more specific beaches, different order than previous 'list' prompt."
      ],
      "metadata": {
        "id": "tTSjfvbvo5Lg"
      }
    },
    {
      "cell_type": "code",
      "source": [
        "print(call_openai(\"Rank the top 10 best Caribbean beach destinations. Explain what metric is used to compare destinations.\"))"
      ],
      "metadata": {
        "colab": {
          "base_uri": "https://localhost:8080/"
        },
        "id": "mQowZdg5of4G",
        "outputId": "4e060244-41d7-4607-cb6d-9e8d208495f7"
      },
      "execution_count": 15,
      "outputs": [
        {
          "output_type": "stream",
          "name": "stdout",
          "text": [
            "Ranking the top 10 best Caribbean beach destinations can be subjective, as different people may have different preferences. However, some common metrics used to compare destinations include:\n",
            "\n",
            "1. Grace Bay, Turks and Caicos: Known for its pristine white sand beaches and crystal-clear turquoise waters, Grace Bay is often considered one of the best Caribbean destinations due to its natural beauty and luxurious resorts.\n",
            "\n",
            "2. Seven Mile Beach, Grand Cayman: This long stretch of beach offers soft sand, calm waters, and a vibrant coral reef, making it a popular spot for snorkeling and diving.\n",
            "\n",
            "3. Eagle Beach, Aruba: With its wide sandy shores, calm waters, and iconic divi-divi trees, Eagle Beach is a favorite among beach lovers. It is also known for its stunning sunsets.\n",
            "\n",
            "4. Negril, Jamaica: Negril's Seven Mile Beach is famous for its golden sand, clear waters, and laid-back atmosphere. It offers a range of water sports activities and beachfront bars.\n",
            "\n",
            "5. Shoal Bay, Anguilla: This pristine beach boasts powdery white sand, calm turquoise waters, and a tranquil atmosphere. It is often considered one of the most beautiful beaches in the Caribbean.\n",
            "\n",
            "6. Playa del Carmen, Mexico: While not technically in the Caribbean, Playa del Carmen offers stunning beaches along the Riviera Maya. Its vibrant atmosphere, clear waters, and proximity to attractions like the Mayan ruins make it a popular choice.\n",
            "\n",
            "7. Palm Beach, Aruba: Located on the northwest coast of Aruba, Palm Beach offers a lively atmosphere, crystal-clear waters, and a range of water sports activities. It is lined with high-rise hotels and resorts.\n",
            "\n",
            "8. Trunk Bay, St. John, US Virgin Islands: Known for its underwater snorkeling trail, Trunk Bay offers pristine white sand, calm waters, and vibrant coral reefs. It is part of the Virgin Islands National Park.\n",
            "\n",
            "9. Pink Sands Beach, Bahamas: Located on Harbour Island, Pink Sands Beach is famous for its unique pink sand, clear waters, and peaceful ambiance. It is a great spot for relaxation and beach walks.\n",
            "\n",
            "10. Anse Chastanet, St. Lucia: Nestled between the Pitons, Anse Chastanet offers a picturesque setting with black sand, lush greenery, and stunning views. It is also known for its excellent snorkeling and diving opportunities.\n",
            "\n",
            "These rankings are based on factors such as natural beauty, water clarity, beach amenities, activities available, and overall visitor experience. However, personal preferences and individual travel goals may influence one's perception of the best Caribbean beach destinations.\n"
          ]
        }
      ]
    },
    {
      "cell_type": "markdown",
      "source": [
        "When asked to rank and explain the metric used, it does mention that the rankings are subjective, so descriptions are likely extracted from reviews. It does provide some factors for ranking, as well as short justification for why each beach was included in the ranking."
      ],
      "metadata": {
        "id": "9T5ab5LepHmw"
      }
    },
    {
      "cell_type": "markdown",
      "source": [
        "## Approach 2: More Context"
      ],
      "metadata": {
        "id": "zfj7M4J1GpGy"
      }
    },
    {
      "cell_type": "markdown",
      "source": [
        "Relevant extra context to be included in the prompt can include:\n",
        "- Demographic (e.g. kids, adults)\n",
        "- Purpose (e.g. see nature, swim, other activities)\n",
        "- Timeline (e.g. time of year, time of day)\n",
        "\n",
        "These aspect should be extracted beforehand (or referenced from popular datasets) to devise more systematic prompts."
      ],
      "metadata": {
        "id": "1EVpTXCOMaXg"
      }
    },
    {
      "cell_type": "code",
      "source": [
        "print(call_openai(\"Recommend the safest Caribbean beach destinations for families with children\"))"
      ],
      "metadata": {
        "id": "sCljtuVNHAst",
        "colab": {
          "base_uri": "https://localhost:8080/"
        },
        "outputId": "fa0d118f-1b22-4648-8265-7ce501f92a12"
      },
      "execution_count": 11,
      "outputs": [
        {
          "output_type": "stream",
          "name": "stdout",
          "text": [
            "1. Turks and Caicos: Known for its crystal-clear waters and pristine beaches, Turks and Caicos offers a safe and family-friendly environment. The Grace Bay Beach is particularly popular for its calm waters and soft sand, making it ideal for children.\n",
            "\n",
            "2. Aruba: With its calm waters and gentle waves, Aruba is another great option for families. Palm Beach and Eagle Beach are both safe and offer a range of family-friendly activities, such as snorkeling, water sports, and beachside playgrounds.\n",
            "\n",
            "3. Cayman Islands: The Cayman Islands are known for their safety and cleanliness. Seven Mile Beach is a popular choice for families, with its calm waters and soft sand. The beach also offers various amenities, including restrooms, picnic areas, and lifeguards.\n",
            "\n",
            "4. Barbados: Barbados is a family-friendly destination with several safe beaches. The west coast, known as the Platinum Coast, offers calm waters and gentle waves, making it suitable for children. Popular family-friendly beaches include Mullins Beach and Paynes Bay.\n",
            "\n",
            "5. St. Lucia: St. Lucia offers a range of family-friendly beaches, such as Reduit Beach and Anse Chastanet. These beaches have calm waters and are well-maintained, making them safe for children. St. Lucia also offers various family-friendly activities, such as snorkeling, boat tours, and hiking.\n",
            "\n",
            "6. Antigua: Antigua is known for its numerous safe and family-friendly beaches. Dickenson Bay and Jolly Beach are particularly popular choices, offering calm waters and soft sand. These beaches also provide amenities like beach chairs, umbrellas, and water sports rentals.\n",
            "\n",
            "7. Anguilla: Anguilla is a peaceful and safe destination for families. Shoal Bay East is a top choice, with its calm waters and beautiful white sand. The beach also offers various water sports activities, such as snorkeling and paddleboarding.\n",
            "\n",
            "Remember to always supervise children near the water, follow local safety guidelines, and be aware of any potential hazards or currents.\n"
          ]
        }
      ]
    },
    {
      "cell_type": "markdown",
      "source": [
        "Defaults back to general locations as opposed to specific beaches. Most of the descriptions use the words 'safe' and 'family-friendly' and suggest possible activities appropriate for families. GPT recognizes that the primary safety concern at beaches are powerful waves/currents. Provides general safety warnings to abide by for beaches."
      ],
      "metadata": {
        "id": "BzCvifMrriNC"
      }
    },
    {
      "cell_type": "code",
      "source": [
        "print(call_openai(\"What Caribbean beaches should families with young children avoid due to safety concerns?\"))"
      ],
      "metadata": {
        "colab": {
          "base_uri": "https://localhost:8080/"
        },
        "id": "wMhTXdzHsPkm",
        "outputId": "076f0fbf-80d5-4017-e379-8f311617f415"
      },
      "execution_count": 17,
      "outputs": [
        {
          "output_type": "stream",
          "name": "stdout",
          "text": [
            "While the Caribbean is generally a safe destination for families with young children, it's always important to exercise caution and be aware of potential safety concerns. Here are a few Caribbean beaches that may have safety concerns for families with young children:\n",
            "\n",
            "1. Maracas Beach, Trinidad and Tobago: While Maracas Beach is popular and beautiful, it can sometimes experience strong currents and rough waves, making it less suitable for young children.\n",
            "\n",
            "2. Crane Beach, Barbados: Crane Beach is known for its strong undertow and powerful waves, which can be dangerous for young children. It's advisable to choose calmer beaches in Barbados for families.\n",
            "\n",
            "3. Bathsheba Beach, Barbados: Bathsheba Beach is known for its picturesque rock formations and powerful waves, which can be hazardous for young children. It's better suited for experienced surfers and adults.\n",
            "\n",
            "4. Playa Grande, Dominican Republic: Playa Grande is a stunning beach, but it can have strong currents and undertows, making it less safe for young children. It's important to exercise caution and supervise children closely.\n",
            "\n",
            "5. Crane Beach, St. Lucia: Crane Beach in St. Lucia can have rough waves and strong currents, making it less suitable for young children. It's advisable to choose calmer beaches in St. Lucia for families.\n",
            "\n",
            "Remember, these safety concerns can vary depending on weather conditions and other factors, so it's always a good idea to check with local authorities or lifeguards for up-to-date information on beach safety.\n"
          ]
        }
      ]
    },
    {
      "cell_type": "markdown",
      "source": [
        "Mentions that safety concerns are dependent on weather conditions, but lists beaches that are known for their stronger powerful currents/waves."
      ],
      "metadata": {
        "id": "zoy8KWfbst_f"
      }
    },
    {
      "cell_type": "code",
      "source": [
        "print(call_openai(\"Recommend the most romantic Caribbean beach destinations for couples on their honeymoon\"))"
      ],
      "metadata": {
        "colab": {
          "base_uri": "https://localhost:8080/"
        },
        "id": "lPta9AZJPzOK",
        "outputId": "5f125a5c-8e71-415b-90d1-37449961bf59"
      },
      "execution_count": 18,
      "outputs": [
        {
          "output_type": "stream",
          "name": "stdout",
          "text": [
            "1. St. Lucia: Known for its stunning natural beauty, St. Lucia offers secluded beaches, lush rainforests, and breathtaking views of the Pitons. Couples can enjoy romantic sunset cruises, private beach picnics, and luxurious resorts with spa treatments.\n",
            "\n",
            "2. Bora Bora, French Polynesia: Although not technically in the Caribbean, Bora Bora is a dream destination for honeymooners. With its crystal-clear turquoise waters, overwater bungalows, and pristine white sand beaches, it offers a truly romantic and secluded experience.\n",
            "\n",
            "3. Turks and Caicos: This group of islands boasts some of the most beautiful beaches in the Caribbean. Couples can enjoy long walks on Grace Bay Beach, indulge in spa treatments, and explore the vibrant coral reefs while snorkeling or diving.\n",
            "\n",
            "4. Anguilla: Known for its stunning beaches and luxurious resorts, Anguilla offers a peaceful and intimate setting for honeymooners. Couples can enjoy private beach dinners, sunset cruises, and explore the island's hidden coves and secluded beaches.\n",
            "\n",
            "5. Barbados: With its vibrant culture, stunning beaches, and warm hospitality, Barbados is a popular choice for honeymooners. Couples can relax on the pristine beaches, explore the island's lush gardens, and indulge in delicious Caribbean cuisine.\n",
            "\n",
            "6. Antigua: With its 365 beaches, one for each day of the year, Antigua offers a wide range of options for couples seeking a romantic getaway. From secluded coves to lively beach bars, honeymooners can find their perfect spot to relax and enjoy each other's company.\n",
            "\n",
            "7. Jamaica: Known for its laid-back vibe and reggae music, Jamaica offers a mix of romance and adventure. Couples can explore the stunning waterfalls, enjoy sunset horseback rides on the beach, and indulge in delicious Jamaican cuisine.\n",
            "\n",
            "8. The Bahamas: With its crystal-clear waters and powdery white sand beaches, the Bahamas is a classic honeymoon destination. Couples can relax on the secluded beaches of the Exumas, swim with pigs in the Exuma Cays, or explore the vibrant nightlife of Nassau.\n",
            "\n",
            "9. Grenada: Known as the \"Spice Isle,\" Grenada offers a unique blend of natural beauty and cultural experiences. Couples can relax on the secluded beaches, visit the picturesque Grand Anse Beach, and explore the island's spice plantations and waterfalls.\n",
            "\n",
            "10. Aruba: With its year-round warm weather and pristine beaches, Aruba is a popular choice for honeymooners. Couples can enjoy romantic sunset cruises, explore the island's natural pools and caves, and indulge in world-class dining and shopping.\n"
          ]
        }
      ]
    },
    {
      "cell_type": "markdown",
      "source": [
        "Correctly associates romanticism with natural beauty, vibes (e.g. music), and seclusion. Also goes outside the prompt to recommend Bora Bora, which is not in the Caribbean, but is ideal for such circumstances."
      ],
      "metadata": {
        "id": "nY7yQNfZtBeb"
      }
    },
    {
      "cell_type": "code",
      "source": [
        "print(call_openai(\"Recommend the most affordable Caribbean beach destinations to visit during the Christmas holiday\"))"
      ],
      "metadata": {
        "colab": {
          "base_uri": "https://localhost:8080/"
        },
        "id": "oq5cTSOEQHXj",
        "outputId": "f058d2d3-4b91-4abb-abcb-9a6a9844fbd1"
      },
      "execution_count": 13,
      "outputs": [
        {
          "output_type": "stream",
          "name": "stdout",
          "text": [
            "1. Dominican Republic: The Dominican Republic offers a range of affordable beach destinations, such as Punta Cana and Puerto Plata. You can find budget-friendly accommodations and enjoy beautiful beaches, water sports, and vibrant local culture.\n",
            "\n",
            "2. Jamaica: Jamaica is known for its stunning beaches and laid-back atmosphere. Montego Bay and Negril are popular destinations with affordable accommodations, delicious local cuisine, and a variety of activities like snorkeling, hiking, and exploring waterfalls.\n",
            "\n",
            "3. Puerto Rico: Puerto Rico is a U.S. territory, making it an easily accessible and affordable Caribbean destination. You can enjoy the beaches of San Juan, visit the historic Old San Juan, explore the El Yunque rainforest, and indulge in delicious local food.\n",
            "\n",
            "4. Cancun, Mexico: While not technically in the Caribbean, Cancun offers beautiful beaches and a vibrant atmosphere. It's a popular destination for budget travelers, with a wide range of affordable accommodations, all-inclusive resorts, and plenty of activities like snorkeling, visiting Mayan ruins, and exploring cenotes.\n",
            "\n",
            "5. Barbados: While Barbados can be slightly more expensive than other Caribbean destinations, it still offers affordable options, especially if you avoid the high-end resorts. You can enjoy stunning beaches, water sports, and explore the island's rich history and culture.\n",
            "\n",
            "Remember to compare prices, look for deals, and consider traveling during the shoulder season to find the best affordable options for your Christmas holiday in the Caribbean.\n"
          ]
        }
      ]
    },
    {
      "cell_type": "markdown",
      "source": [
        "Cites general locations and the list is shorter - this makes sense given Caribbean vacations are not cheap, especially during holiday season. The descriptions use the term 'affordable' to justify its stance, meaning it recognizes the context of the query."
      ],
      "metadata": {
        "id": "lhThtP2fuvjt"
      }
    },
    {
      "cell_type": "code",
      "source": [
        "print(call_openai(\"Recommend affordable Caribbean beach destinations that can still impress my rich friends\"))"
      ],
      "metadata": {
        "id": "oZ9C0uPyTtz6",
        "colab": {
          "base_uri": "https://localhost:8080/"
        },
        "outputId": "efd1cb4b-442f-485e-cb44-2830e0ff743a"
      },
      "execution_count": 19,
      "outputs": [
        {
          "output_type": "stream",
          "name": "stdout",
          "text": [
            "1. Puerto Rico: With its stunning beaches, vibrant culture, and affordable accommodations, Puerto Rico is a great option. Your rich friends will be impressed by the beautiful beaches of San Juan, the historic charm of Old San Juan, and the opportunity to explore the El Yunque National Forest.\n",
            "\n",
            "2. Dominican Republic: Known for its all-inclusive resorts and pristine beaches, the Dominican Republic offers a range of affordable options. Punta Cana is particularly popular, with its white sandy beaches and crystal-clear waters. Your rich friends can also enjoy activities like golfing, snorkeling, and exploring the historic city of Santo Domingo.\n",
            "\n",
            "3. Jamaica: Jamaica offers a mix of luxury resorts and more budget-friendly accommodations. Montego Bay and Negril are popular destinations, known for their beautiful beaches and vibrant nightlife. Your rich friends can indulge in spa treatments, enjoy water sports, and experience the unique Jamaican culture.\n",
            "\n",
            "4. Belize: Belize offers affordable beach destinations with a touch of adventure. The island of Ambergris Caye is known for its stunning beaches, snorkeling, and diving opportunities. Your rich friends can also explore the Belize Barrier Reef, visit ancient Mayan ruins, or go cave tubing in the lush rainforests.\n",
            "\n",
            "5. Barbados: While Barbados may be considered more upscale, there are still affordable options available. The island offers beautiful beaches, luxury resorts, and a vibrant local culture. Your rich friends can enjoy water sports, visit historic sites like the Garrison Savannah, or indulge in the island's renowned cuisine.\n",
            "\n",
            "Remember, affordability is relative, so it's always a good idea to research and compare prices to find the best deals for your specific travel dates.\n"
          ]
        }
      ]
    },
    {
      "cell_type": "markdown",
      "source": [
        "Suggests separate activities for rich friends exclusive from what activities user should consider. The initial goal of the prompt was to find activities that everyone could participate, but the use of contrasting adjectives (e.g. affordable, risk) lead to the exclusive recommendations. Recommendations are very general (i.e. country-level), which suggests that GPT struggled to find more fine-grained results."
      ],
      "metadata": {
        "id": "zUJUyfiEzQmX"
      }
    }
  ]
}