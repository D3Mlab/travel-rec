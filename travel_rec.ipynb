{
  "nbformat": 4,
  "nbformat_minor": 0,
  "metadata": {
    "colab": {
      "provenance": []
    },
    "kernelspec": {
      "name": "python3",
      "display_name": "Python 3"
    },
    "language_info": {
      "name": "python"
    }
  },
  "cells": [
    {
      "cell_type": "code",
      "source": [
        "!pip install openai"
      ],
      "metadata": {
        "colab": {
          "base_uri": "https://localhost:8080/"
        },
        "id": "begyne6d-3jg",
        "outputId": "b400cbe9-abc1-4a75-f2fa-c8a28a2bd18c"
      },
      "execution_count": 1,
      "outputs": [
        {
          "output_type": "stream",
          "name": "stdout",
          "text": [
            "Collecting openai\n",
            "  Downloading openai-0.28.1-py3-none-any.whl (76 kB)\n",
            "\u001b[?25l     \u001b[90m━━━━━━━━━━━━━━━━━━━━━━━━━━━━━━━━━━━━━━━━\u001b[0m \u001b[32m0.0/77.0 kB\u001b[0m \u001b[31m?\u001b[0m eta \u001b[36m-:--:--\u001b[0m\r\u001b[2K     \u001b[90m━━━━━━━━━━━━━━━━━━━━━━━━━━━━━━━━━━━━━━━━\u001b[0m \u001b[32m77.0/77.0 kB\u001b[0m \u001b[31m2.2 MB/s\u001b[0m eta \u001b[36m0:00:00\u001b[0m\n",
            "\u001b[?25hRequirement already satisfied: requests>=2.20 in /usr/local/lib/python3.10/dist-packages (from openai) (2.31.0)\n",
            "Requirement already satisfied: tqdm in /usr/local/lib/python3.10/dist-packages (from openai) (4.66.1)\n",
            "Requirement already satisfied: aiohttp in /usr/local/lib/python3.10/dist-packages (from openai) (3.8.5)\n",
            "Requirement already satisfied: charset-normalizer<4,>=2 in /usr/local/lib/python3.10/dist-packages (from requests>=2.20->openai) (3.2.0)\n",
            "Requirement already satisfied: idna<4,>=2.5 in /usr/local/lib/python3.10/dist-packages (from requests>=2.20->openai) (3.4)\n",
            "Requirement already satisfied: urllib3<3,>=1.21.1 in /usr/local/lib/python3.10/dist-packages (from requests>=2.20->openai) (2.0.4)\n",
            "Requirement already satisfied: certifi>=2017.4.17 in /usr/local/lib/python3.10/dist-packages (from requests>=2.20->openai) (2023.7.22)\n",
            "Requirement already satisfied: attrs>=17.3.0 in /usr/local/lib/python3.10/dist-packages (from aiohttp->openai) (23.1.0)\n",
            "Requirement already satisfied: multidict<7.0,>=4.5 in /usr/local/lib/python3.10/dist-packages (from aiohttp->openai) (6.0.4)\n",
            "Requirement already satisfied: async-timeout<5.0,>=4.0.0a3 in /usr/local/lib/python3.10/dist-packages (from aiohttp->openai) (4.0.3)\n",
            "Requirement already satisfied: yarl<2.0,>=1.0 in /usr/local/lib/python3.10/dist-packages (from aiohttp->openai) (1.9.2)\n",
            "Requirement already satisfied: frozenlist>=1.1.1 in /usr/local/lib/python3.10/dist-packages (from aiohttp->openai) (1.4.0)\n",
            "Requirement already satisfied: aiosignal>=1.1.2 in /usr/local/lib/python3.10/dist-packages (from aiohttp->openai) (1.3.1)\n",
            "Installing collected packages: openai\n",
            "Successfully installed openai-0.28.1\n"
          ]
        }
      ]
    },
    {
      "cell_type": "code",
      "execution_count": 2,
      "metadata": {
        "id": "q-i9Griq66MN",
        "colab": {
          "base_uri": "https://localhost:8080/"
        },
        "outputId": "4f2a882f-c9eb-40be-c0b7-e4f2c7378953"
      },
      "outputs": [
        {
          "name": "stdout",
          "output_type": "stream",
          "text": [
            "Enter OpenAI API key: ··········\n"
          ]
        }
      ],
      "source": [
        "import openai\n",
        "from getpass import getpass\n",
        "\n",
        "openai.api_key = getpass('Enter OpenAI API key: ')"
      ]
    },
    {
      "cell_type": "code",
      "source": [
        "def call_openai(prompt):\n",
        "  try:\n",
        "    response = openai.ChatCompletion.create(\n",
        "        model=\"gpt-3.5-turbo\",\n",
        "        messages=[\n",
        "            {\"role\": \"user\", \"content\": prompt}\n",
        "        ],\n",
        "        temperature=0\n",
        "    )\n",
        "    return response.get(\"choices\")[0].get(\"message\").get(\"content\")\n",
        "  except:\n",
        "    return ''"
      ],
      "metadata": {
        "id": "ugc2qCTHLR-3"
      },
      "execution_count": 3,
      "outputs": []
    },
    {
      "cell_type": "markdown",
      "source": [
        "# Caribbean beach destinations"
      ],
      "metadata": {
        "id": "dhSdIXLRAIC2"
      }
    },
    {
      "cell_type": "markdown",
      "source": [
        "## Approach 1: Generic - No Context"
      ],
      "metadata": {
        "id": "rhVKO-nfAxq1"
      }
    },
    {
      "cell_type": "code",
      "source": [
        "print(call_openai(\"Recommend some Caribbean beach destinations\"))"
      ],
      "metadata": {
        "colab": {
          "base_uri": "https://localhost:8080/"
        },
        "id": "ly-aC0kc9u2z",
        "outputId": "5702d1aa-566c-4194-9c04-c9dafc40d8b8"
      },
      "execution_count": 4,
      "outputs": [
        {
          "output_type": "stream",
          "name": "stdout",
          "text": [
            "1. Punta Cana, Dominican Republic: Known for its stunning white-sand beaches and crystal-clear turquoise waters, Punta Cana offers a range of all-inclusive resorts and water activities such as snorkeling, scuba diving, and sailing.\n",
            "\n",
            "2. Negril, Jamaica: With its famous Seven Mile Beach, Negril is a laid-back destination known for its beautiful sunsets, reggae music, and vibrant beach bars. Visitors can also explore nearby attractions like the Blue Hole Mineral Spring and the Negril Lighthouse.\n",
            "\n",
            "3. Grace Bay, Turks and Caicos: Grace Bay Beach is consistently ranked among the world's best beaches, with its powdery white sand and calm, turquoise waters. It's a perfect destination for snorkeling, diving, and enjoying luxurious resorts.\n",
            "\n",
            "4. St. Lucia: This lush island offers a mix of stunning beaches, volcanic landscapes, and vibrant culture. Visitors can relax on the golden sands of Reduit Beach, explore the iconic Pitons, or indulge in a mud bath at the Sulphur Springs.\n",
            "\n",
            "5. Barbados: Known for its vibrant culture, Barbados offers a variety of beautiful beaches, including Crane Beach, Miami Beach, and Mullins Beach. Visitors can also explore historic sites like the Garrison Savannah and enjoy water sports like surfing and paddleboarding.\n",
            "\n",
            "6. Aruba: With its year-round warm weather and pristine beaches, Aruba is a popular destination for beach lovers. Eagle Beach and Palm Beach are particularly famous for their soft sand and calm waters, while the island also offers opportunities for snorkeling, windsurfing, and exploring natural wonders like the Arikok National Park.\n",
            "\n",
            "7. St. Kitts and Nevis: These twin islands offer a more secluded and tranquil beach experience. Visitors can relax on the golden sands of Pinney's Beach in Nevis or explore the black volcanic sand beaches of St. Kitts. The islands also boast lush rainforests, historic sites, and hiking trails.\n",
            "\n",
            "8. Anguilla: Known for its pristine white-sand beaches and crystal-clear waters, Anguilla offers a luxurious and exclusive beach experience. Shoal Bay East, Meads Bay, and Rendezvous Bay are some of the most popular beaches on the island.\n",
            "\n",
            "9. Cayman Islands: The Cayman Islands are famous for their stunning beaches, including Seven Mile Beach on Grand Cayman. Visitors can also enjoy snorkeling and diving in the crystal-clear waters, explore the vibrant coral reefs, or relax in luxury resorts.\n",
            "\n",
            "10. Grenada: Known as the \"Spice Isle,\" Grenada offers a mix of beautiful beaches, lush rainforests, and spice plantations. Grand Anse Beach is a popular destination with its golden sands and calm waters, while visitors can also explore the underwater sculpture park or hike through the Grand Etang National Park.\n"
          ]
        }
      ]
    },
    {
      "cell_type": "markdown",
      "source": [
        "Wide range of recommmendations supplemented with descriptive adjectives regarding the general vibe, somewhat like an advertisement. Automatically defaults to a \"top 10\" ranking."
      ],
      "metadata": {
        "id": "lVS3MeZWEkV5"
      }
    },
    {
      "cell_type": "code",
      "source": [
        "print(call_openai(\"List the most popular Caribbean beaches\"))"
      ],
      "metadata": {
        "colab": {
          "base_uri": "https://localhost:8080/"
        },
        "id": "Y5mONxYGHNwF",
        "outputId": "6a764d6f-b7c3-4970-b9ad-3ab23792083d"
      },
      "execution_count": 5,
      "outputs": [
        {
          "output_type": "stream",
          "name": "stdout",
          "text": [
            "1. Seven Mile Beach, Grand Cayman, Cayman Islands\n",
            "2. Grace Bay Beach, Providenciales, Turks and Caicos Islands\n",
            "3. Eagle Beach, Aruba\n",
            "4. Palm Beach, Aruba\n",
            "5. Varadero Beach, Cuba\n",
            "6. Negril Beach, Jamaica\n",
            "7. Trunk Bay, St. John, U.S. Virgin Islands\n",
            "8. Shoal Bay, Anguilla\n",
            "9. Crane Beach, Barbados\n",
            "10. Playa Flamenco, Culebra, Puerto Rico\n"
          ]
        }
      ]
    },
    {
      "cell_type": "markdown",
      "source": [
        "Structuring prompt to use the term 'list' removes the helpful descriptions that provided useful reasoning to the end user.  "
      ],
      "metadata": {
        "id": "_yTkg0eNnUon"
      }
    },
    {
      "cell_type": "code",
      "source": [
        "print(call_openai(\"Rank the top 10 best Caribbean beach destinations\"))"
      ],
      "metadata": {
        "colab": {
          "base_uri": "https://localhost:8080/"
        },
        "id": "H42RUXuloUa7",
        "outputId": "5339f8cb-a1b8-4d4d-cd28-f3e2d4263930"
      },
      "execution_count": 6,
      "outputs": [
        {
          "output_type": "stream",
          "name": "stdout",
          "text": [
            "1. Grace Bay, Turks and Caicos\n",
            "2. Seven Mile Beach, Grand Cayman\n",
            "3. Eagle Beach, Aruba\n",
            "4. Pink Sands Beach, Bahamas\n",
            "5. Trunk Bay, St. John, US Virgin Islands\n",
            "6. Shoal Bay, Anguilla\n",
            "7. Playa Flamenco, Culebra, Puerto Rico\n",
            "8. Crane Beach, Barbados\n",
            "9. Anse Chastanet, St. Lucia\n",
            "10. Palm Beach, Aruba\n"
          ]
        }
      ]
    },
    {
      "cell_type": "markdown",
      "source": [
        "When using the term 'ranking', beach destinations are more specific beaches, different order than previous 'list' prompt."
      ],
      "metadata": {
        "id": "tTSjfvbvo5Lg"
      }
    },
    {
      "cell_type": "code",
      "source": [
        "print(call_openai(\"Rank the top 10 best Caribbean beach destinations. Explain what metric is used to compare destinations.\"))"
      ],
      "metadata": {
        "colab": {
          "base_uri": "https://localhost:8080/"
        },
        "id": "mQowZdg5of4G",
        "outputId": "6b8bbc4c-56ad-47d0-ef44-2f8f325e4b02"
      },
      "execution_count": 7,
      "outputs": [
        {
          "output_type": "stream",
          "name": "stdout",
          "text": [
            "Ranking the top 10 best Caribbean beach destinations can be subjective, as different people may have different preferences. However, some common metrics used to compare destinations include:\n",
            "\n",
            "1. Grace Bay, Turks and Caicos: Known for its pristine white sand beaches and crystal-clear turquoise waters, Grace Bay is often considered one of the best Caribbean destinations due to its natural beauty and luxurious resorts.\n",
            "\n",
            "2. Seven Mile Beach, Grand Cayman: This long stretch of beach offers soft sand, calm waters, and a vibrant coral reef, making it a popular spot for snorkeling and diving.\n",
            "\n",
            "3. Eagle Beach, Aruba: With its wide sandy shores, calm waters, and iconic divi-divi trees, Eagle Beach is a favorite among beach lovers. It is also known for its stunning sunsets.\n",
            "\n",
            "4. Negril, Jamaica: Negril's Seven Mile Beach is famous for its golden sand, clear waters, and laid-back atmosphere. It offers a range of water sports activities and beachfront bars.\n",
            "\n",
            "5. Shoal Bay, Anguilla: This pristine beach boasts powdery white sand, calm turquoise waters, and a tranquil atmosphere. It is often considered one of the most beautiful beaches in the Caribbean.\n",
            "\n",
            "6. Playa del Carmen, Mexico: While not technically in the Caribbean, Playa del Carmen offers stunning beaches along the Riviera Maya. Its vibrant atmosphere, clear waters, and proximity to attractions like the Mayan ruins make it a popular choice.\n",
            "\n",
            "7. Palm Beach, Aruba: Located on the northwest coast of Aruba, Palm Beach offers a lively atmosphere, crystal-clear waters, and a range of water sports activities. It is lined with high-rise hotels and resorts.\n",
            "\n",
            "8. Trunk Bay, St. John, US Virgin Islands: Known for its underwater snorkeling trail, Trunk Bay offers pristine white sand, calm waters, and vibrant coral reefs. It is part of the Virgin Islands National Park.\n",
            "\n",
            "9. Pink Sands Beach, Bahamas: Located on Harbour Island, Pink Sands Beach is famous for its unique pink sand, clear waters, and peaceful ambiance. It is a great spot for relaxation and beach walks.\n",
            "\n",
            "10. Anse Chastanet, St. Lucia: Nestled between the Pitons, Anse Chastanet offers a picturesque setting with black sand, lush greenery, and stunning views. It is also known for its excellent snorkeling and diving opportunities.\n",
            "\n",
            "These rankings are based on factors such as natural beauty, water clarity, beach amenities, activities available, and overall visitor experience. However, personal preferences and individual travel goals may influence one's perception of the best Caribbean beach destinations.\n"
          ]
        }
      ]
    },
    {
      "cell_type": "markdown",
      "source": [
        "When asked to rank and explain the metric used, it does mention that the rankings are subjective, so descriptions are likely extracted from reviews. It does provide some factors for ranking, as well as short justification for why each beach was included in the ranking."
      ],
      "metadata": {
        "id": "9T5ab5LepHmw"
      }
    },
    {
      "cell_type": "markdown",
      "source": [
        "## Approach 2: More Context"
      ],
      "metadata": {
        "id": "zfj7M4J1GpGy"
      }
    },
    {
      "cell_type": "markdown",
      "source": [
        "Relevant extra context to be included in the prompt can include:\n",
        "- Demographic (e.g. kids, adults)\n",
        "- Purpose (e.g. see nature, swim, other activities)\n",
        "- Timeline (e.g. time of year, time of day)\n",
        "\n",
        "These aspect should be extracted beforehand (or referenced from popular datasets) to devise more systematic prompts."
      ],
      "metadata": {
        "id": "1EVpTXCOMaXg"
      }
    },
    {
      "cell_type": "code",
      "source": [
        "print(call_openai(\"Recommend the safest Caribbean beach destinations for families with children\"))"
      ],
      "metadata": {
        "id": "sCljtuVNHAst",
        "colab": {
          "base_uri": "https://localhost:8080/"
        },
        "outputId": "fa457aa6-c34f-43f2-f809-c224c4a37f99"
      },
      "execution_count": 8,
      "outputs": [
        {
          "output_type": "stream",
          "name": "stdout",
          "text": [
            "1. Turks and Caicos: Known for its crystal-clear waters and pristine beaches, Turks and Caicos offers a safe and family-friendly environment. The Grace Bay Beach is particularly popular for its calm waters and soft sand, making it ideal for children.\n",
            "\n",
            "2. Aruba: With its calm waters and gentle waves, Aruba is another great option for families. Palm Beach and Eagle Beach are both safe and offer a range of family-friendly activities, such as snorkeling, water sports, and beachside playgrounds.\n",
            "\n",
            "3. Cayman Islands: The Cayman Islands are known for their safety and cleanliness. Seven Mile Beach is a popular choice for families, with its calm waters and soft sand. The beach also offers various amenities, including restrooms, picnic areas, and lifeguards.\n",
            "\n",
            "4. Barbados: Barbados is a family-friendly destination with several safe beaches. The west coast, known as the Platinum Coast, offers calm waters and gentle waves, making it suitable for children. Popular family-friendly beaches include Mullins Beach and Paynes Bay.\n",
            "\n",
            "5. St. Lucia: St. Lucia offers a range of family-friendly beaches, such as Reduit Beach and Anse Chastanet. These beaches have calm waters and are well-maintained, making them safe for children. St. Lucia also offers various family-friendly activities, such as snorkeling, hiking, and exploring the island's natural beauty.\n",
            "\n",
            "6. Antigua: Antigua is known for its numerous safe and family-friendly beaches. Dickenson Bay and Jolly Beach are particularly popular among families, offering calm waters and soft sand. The beaches also provide amenities like beach chairs, umbrellas, and water sports rentals.\n",
            "\n",
            "7. Anguilla: Anguilla is a peaceful and safe destination for families. Shoal Bay East is a top choice for families, with its calm waters and beautiful white sand. The beach also offers various water sports activities and beachside restaurants.\n",
            "\n",
            "Remember to always check local safety guidelines and adhere to any warnings or recommendations provided by local authorities to ensure a safe and enjoyable experience for your family.\n"
          ]
        }
      ]
    },
    {
      "cell_type": "markdown",
      "source": [
        "Defaults back to general locations as opposed to specific beaches. Most of the descriptions use the words 'safe' and 'family-friendly' and suggest possible activities appropriate for families. GPT recognizes that the primary safety concern at beaches are powerful waves/currents. Provides general safety warnings to abide by for beaches."
      ],
      "metadata": {
        "id": "BzCvifMrriNC"
      }
    },
    {
      "cell_type": "code",
      "source": [
        "print(call_openai(\"What Caribbean beaches should families with young children avoid due to safety concerns?\"))"
      ],
      "metadata": {
        "colab": {
          "base_uri": "https://localhost:8080/"
        },
        "id": "wMhTXdzHsPkm",
        "outputId": "edc0ac0a-bb2e-4e5a-b25c-15d205bf80aa"
      },
      "execution_count": 9,
      "outputs": [
        {
          "output_type": "stream",
          "name": "stdout",
          "text": [
            "While the Caribbean is generally a safe destination for families with young children, there are a few beaches that may have safety concerns. It's important to note that these concerns can vary over time, so it's always recommended to check the latest travel advisories and local information before planning a trip. Here are a few beaches that have had safety concerns in the past:\n",
            "\n",
            "1. Maracas Beach, Trinidad and Tobago: While Maracas Beach is popular among locals and tourists, it has occasionally experienced incidents of theft and petty crime. It's advisable to take necessary precautions and avoid leaving valuables unattended.\n",
            "\n",
            "2. Montego Bay, Jamaica: While Montego Bay has beautiful beaches, it is known to have higher crime rates compared to other areas in Jamaica. It's recommended to stay in well-known resort areas and avoid venturing into unfamiliar or secluded areas.\n",
            "\n",
            "3. Coki Beach, St. Thomas, U.S. Virgin Islands: Coki Beach has had reports of occasional theft and harassment. It's advisable to be cautious and keep an eye on personal belongings while enjoying the beach.\n",
            "\n",
            "4. Labadee, Haiti: Labadee is a private resort area in Haiti, but it's important to note that some parts of Haiti have safety concerns. While Labadee is generally safe due to its controlled environment, it's recommended to stay within the resort boundaries and follow any guidelines provided by the cruise line or resort.\n",
            "\n",
            "Remember, these concerns can change over time, so it's essential to stay informed and updated on the latest travel advisories and local information before planning a trip to any destination.\n"
          ]
        }
      ]
    },
    {
      "cell_type": "markdown",
      "source": [
        "Mentions that safety concerns are dependent on weather conditions, but lists beaches that are known for their stronger powerful currents/waves."
      ],
      "metadata": {
        "id": "zoy8KWfbst_f"
      }
    },
    {
      "cell_type": "code",
      "source": [
        "print(call_openai(\"Recommend the most romantic Caribbean beach destinations for couples on their honeymoon\"))"
      ],
      "metadata": {
        "colab": {
          "base_uri": "https://localhost:8080/"
        },
        "id": "lPta9AZJPzOK",
        "outputId": "ed3520b0-2605-4625-8856-2adaa4781e4a"
      },
      "execution_count": 10,
      "outputs": [
        {
          "output_type": "stream",
          "name": "stdout",
          "text": [
            "1. St. Lucia: Known for its stunning natural beauty, St. Lucia offers secluded beaches, lush rainforests, and breathtaking views of the Pitons. Couples can enjoy romantic sunset cruises, private beach picnics, and luxurious resorts with spa treatments.\n",
            "\n",
            "2. Bora Bora, French Polynesia: Although not technically in the Caribbean, Bora Bora is a dream destination for honeymooners. With its crystal-clear turquoise waters, overwater bungalows, and pristine white sand beaches, it offers a truly romantic and secluded experience.\n",
            "\n",
            "3. Turks and Caicos: This group of islands boasts some of the most beautiful beaches in the Caribbean. Couples can enjoy long walks on Grace Bay Beach, indulge in spa treatments, and explore the vibrant coral reefs while snorkeling or diving.\n",
            "\n",
            "4. Anguilla: Known for its stunning beaches and luxurious resorts, Anguilla offers a peaceful and intimate setting for honeymooners. Couples can enjoy private beach dinners, sunset cruises, and explore the island's hidden coves and secluded beaches.\n",
            "\n",
            "5. Barbados: With its vibrant culture, stunning beaches, and warm hospitality, Barbados is a popular choice for honeymooners. Couples can relax on the pristine beaches, explore the island's lush gardens, and indulge in delicious Caribbean cuisine.\n",
            "\n",
            "6. Antigua: With its 365 beaches, one for each day of the year, Antigua offers a wide range of options for couples seeking a romantic getaway. From secluded coves to lively beach bars, there is something for every couple to enjoy.\n",
            "\n",
            "7. Jamaica: Known for its laid-back vibe and reggae music, Jamaica offers a mix of romance and adventure. Couples can enjoy sunset cruises, explore waterfalls, and relax on the beautiful beaches of Negril or Montego Bay.\n",
            "\n",
            "8. The Bahamas: With its crystal-clear waters and stunning coral reefs, the Bahamas is a paradise for honeymooners. Couples can enjoy private island escapes, swim with dolphins, and relax on the pristine beaches of Exuma or Paradise Island.\n",
            "\n",
            "9. Grenada: Known as the \"Spice Isle,\" Grenada offers a unique blend of natural beauty and Caribbean charm. Couples can explore the island's spice plantations, relax on secluded beaches, and enjoy romantic sunset dinners.\n",
            "\n",
            "10. Aruba: With its year-round warm weather and pristine beaches, Aruba is a popular choice for honeymooners. Couples can enjoy water sports, explore the island's natural wonders, and relax on the white sand beaches of Palm Beach or Eagle Beach.\n"
          ]
        }
      ]
    },
    {
      "cell_type": "markdown",
      "source": [
        "Correctly associates romanticism with natural beauty, vibes (e.g. music), and seclusion. Also goes outside the prompt to recommend Bora Bora, which is not in the Caribbean, but is ideal for such circumstances."
      ],
      "metadata": {
        "id": "nY7yQNfZtBeb"
      }
    },
    {
      "cell_type": "code",
      "source": [
        "print(call_openai(\"Recommend the most affordable Caribbean beach destinations to visit during the Christmas holiday\"))"
      ],
      "metadata": {
        "colab": {
          "base_uri": "https://localhost:8080/"
        },
        "id": "oq5cTSOEQHXj",
        "outputId": "e1cac9e3-22ca-41e7-e0b8-eab6eae1795e"
      },
      "execution_count": 11,
      "outputs": [
        {
          "output_type": "stream",
          "name": "stdout",
          "text": [
            "1. Dominican Republic: The Dominican Republic offers a range of affordable beach destinations, such as Punta Cana and Puerto Plata. You can find budget-friendly accommodations and enjoy beautiful beaches, water sports, and vibrant local culture.\n",
            "\n",
            "2. Jamaica: Jamaica is known for its stunning beaches and laid-back atmosphere. Montego Bay and Negril are popular destinations with affordable accommodations, delicious local cuisine, and a variety of activities like snorkeling, hiking, and exploring waterfalls.\n",
            "\n",
            "3. Puerto Rico: Puerto Rico is a U.S. territory, making it an easily accessible and affordable Caribbean destination. You can enjoy the beaches of San Juan, visit the historic Old San Juan, explore the El Yunque rainforest, and indulge in delicious local food.\n",
            "\n",
            "4. Cancun, Mexico: While not technically in the Caribbean, Cancun offers beautiful beaches and a vibrant atmosphere. It's a popular destination for budget travelers, with a wide range of affordable accommodations, all-inclusive resorts, and plenty of activities like snorkeling, visiting Mayan ruins, and exploring cenotes.\n",
            "\n",
            "5. Barbados: While Barbados can be slightly more expensive than other Caribbean destinations, it still offers affordable options, especially if you avoid the high-end resorts. You can enjoy stunning beaches, water sports, and explore the island's rich history and culture.\n",
            "\n",
            "Remember to compare prices, look for deals, and consider traveling during the shoulder season to find the best affordable options.\n"
          ]
        }
      ]
    },
    {
      "cell_type": "markdown",
      "source": [
        "Cites general locations and the list is shorter - this makes sense given Caribbean vacations are not cheap, especially during holiday season. The descriptions use the term 'affordable' to justify its stance, meaning it recognizes the context of the query."
      ],
      "metadata": {
        "id": "lhThtP2fuvjt"
      }
    },
    {
      "cell_type": "code",
      "source": [
        "print(call_openai(\"Recommend affordable Caribbean beach destinations that can still impress my rich friends\"))"
      ],
      "metadata": {
        "id": "oZ9C0uPyTtz6",
        "colab": {
          "base_uri": "https://localhost:8080/"
        },
        "outputId": "d13a82bd-9c7e-4b09-a444-37bef018d2e7"
      },
      "execution_count": 12,
      "outputs": [
        {
          "output_type": "stream",
          "name": "stdout",
          "text": [
            "1. Puerto Rico: With its stunning beaches, vibrant culture, and affordable accommodations, Puerto Rico is a great option. Your rich friends will be impressed by the beautiful beaches of San Juan, the historic charm of Old San Juan, and the opportunity to explore the El Yunque National Forest.\n",
            "\n",
            "2. Dominican Republic: Known for its all-inclusive resorts and pristine beaches, the Dominican Republic offers a range of affordable options. Punta Cana is particularly popular, with its white sandy beaches and crystal-clear waters. Your rich friends can also enjoy activities like golfing, snorkeling, and exploring the historic city of Santo Domingo.\n",
            "\n",
            "3. Jamaica: Jamaica offers a mix of luxury resorts and more budget-friendly accommodations. Montego Bay and Negril are popular destinations, known for their beautiful beaches and vibrant nightlife. Your rich friends can indulge in spa treatments, enjoy water sports, and experience the unique Jamaican culture.\n",
            "\n",
            "4. Belize: Belize offers affordable beach destinations with a touch of adventure. The island of Ambergris Caye is known for its stunning beaches, snorkeling, and diving opportunities. Your rich friends can also explore the Belize Barrier Reef, visit ancient Mayan ruins, or go cave tubing in the lush rainforests.\n",
            "\n",
            "5. Barbados: While Barbados may be considered more upscale, there are still affordable options available. The island offers beautiful beaches, luxury resorts, and a vibrant local culture. Your rich friends can enjoy water sports, visit historic sites like the Garrison Savannah, or indulge in the island's renowned cuisine.\n",
            "\n",
            "Remember, affordability is relative, so it's always a good idea to research and compare prices to find the best deals for your specific travel dates.\n"
          ]
        }
      ]
    },
    {
      "cell_type": "markdown",
      "source": [
        "Suggests separate activities for rich friends exclusive from what activities user should consider. The initial goal of the prompt was to find activities that everyone could participate, but the use of contrasting adjectives (e.g. affordable, risk) lead to the exclusive recommendations. Recommendations are very general (i.e. country-level), which suggests that GPT struggled to find more fine-grained results."
      ],
      "metadata": {
        "id": "zUJUyfiEzQmX"
      }
    },
    {
      "cell_type": "markdown",
      "source": [
        "# Comparative Destinations"
      ],
      "metadata": {
        "id": "4XhYKmCrHsbg"
      }
    },
    {
      "cell_type": "markdown",
      "source": [
        "## Learning Aspects"
      ],
      "metadata": {
        "id": "q4WF8I3iLRSk"
      }
    },
    {
      "cell_type": "markdown",
      "source": [
        "### General"
      ],
      "metadata": {
        "id": "D_mijenHLpBt"
      }
    },
    {
      "cell_type": "code",
      "source": [
        "print(call_openai(\"Rank the top 5 factors to consider when planning a vacation to a Caribbean beach destination\"))"
      ],
      "metadata": {
        "colab": {
          "base_uri": "https://localhost:8080/"
        },
        "id": "wn7McXfoH2mY",
        "outputId": "c50273ae-bb92-46a4-bca5-207436b5f5f7"
      },
      "execution_count": 15,
      "outputs": [
        {
          "output_type": "stream",
          "name": "stdout",
          "text": [
            "1. Weather: The weather is a crucial factor to consider when planning a vacation to a Caribbean beach destination. Research the climate and weather patterns of the specific destination during your desired travel dates. Ensure that the weather is suitable for beach activities and that it aligns with your preferences.\n",
            "\n",
            "2. Safety: Safety is paramount when traveling to any destination. Research the safety conditions of the Caribbean beach destination you are considering. Look for information on crime rates, political stability, and any travel advisories issued by your government. Choose a destination that is known for being safe and secure.\n",
            "\n",
            "3. Beaches and Activities: The main reason for choosing a Caribbean beach destination is the beaches and the activities available. Consider the quality and beauty of the beaches, as well as the range of activities offered. Look for destinations that offer a variety of water sports, snorkeling, diving, boat tours, and other beach-related activities that align with your interests.\n",
            "\n",
            "4. Accommodation and Amenities: The availability and quality of accommodation options are important factors to consider. Research the range of accommodations available, including hotels, resorts, villas, or vacation rentals. Consider the amenities offered, such as pools, restaurants, spas, and proximity to the beach. Choose a destination that offers a variety of accommodation options that suit your preferences and budget.\n",
            "\n",
            "5. Accessibility and Transportation: Consider the accessibility of the Caribbean beach destination. Look for direct flights or convenient connections from your location. Research the transportation options available at the destination, such as rental cars, taxis, or public transportation. Choose a destination that is easily accessible and offers convenient transportation options for exploring the area.\n"
          ]
        }
      ]
    },
    {
      "cell_type": "code",
      "source": [
        "print(call_openai(\"Rank the top 5 factors to consider when comparing different Caribbean beach destinations\"))"
      ],
      "metadata": {
        "colab": {
          "base_uri": "https://localhost:8080/"
        },
        "id": "ra9LYdD-K77a",
        "outputId": "46c278e9-7d50-4ad4-d6fd-0b7f78b9cdea"
      },
      "execution_count": 16,
      "outputs": [
        {
          "output_type": "stream",
          "name": "stdout",
          "text": [
            "1. Beach Quality: The quality of the beach is a crucial factor to consider when comparing Caribbean beach destinations. Factors such as sand quality, cleanliness, water clarity, and calmness are important to ensure an enjoyable beach experience.\n",
            "\n",
            "2. Safety and Security: Safety is paramount when choosing a Caribbean beach destination. Consider factors such as crime rates, lifeguard presence, and the overall safety of the area to ensure a worry-free vacation.\n",
            "\n",
            "3. Activities and Amenities: Different Caribbean beach destinations offer various activities and amenities. Consider the availability of water sports, snorkeling, diving, boat tours, beach bars, restaurants, and other amenities that align with your preferences.\n",
            "\n",
            "4. Accessibility and Transportation: The ease of getting to and around the destination is an important factor. Consider factors such as flight availability, proximity to airports, transportation options within the destination, and the overall convenience of reaching and exploring the beach area.\n",
            "\n",
            "5. Cost and Budget: The cost of accommodation, dining, and activities can vary significantly among Caribbean beach destinations. Consider your budget and compare the overall cost of living, accommodation options, and the affordability of activities and dining in each destination.\n"
          ]
        }
      ]
    },
    {
      "cell_type": "markdown",
      "source": [
        "### More Contextual"
      ],
      "metadata": {
        "id": "kDairUiCLroA"
      }
    },
    {
      "cell_type": "code",
      "source": [
        "print(call_openai(\"I want to take my 4 kids and wife on a family vacation to the Caribbean. What are 5 things to consider when picking a location?\"))"
      ],
      "metadata": {
        "colab": {
          "base_uri": "https://localhost:8080/"
        },
        "id": "X4njroA3LtSP",
        "outputId": "b4f0251f-9f82-4d0e-f2b3-fed4fa440caf"
      },
      "execution_count": 17,
      "outputs": [
        {
          "output_type": "stream",
          "name": "stdout",
          "text": [
            "When picking a location for a family vacation to the Caribbean, here are five important factors to consider:\n",
            "\n",
            "1. Safety and Security: Ensure that the chosen destination has a good reputation for safety and security. Research the crime rates, political stability, and any travel advisories issued by your government. Look for family-friendly resorts or areas with a reputation for being safe for tourists.\n",
            "\n",
            "2. Accessibility: Consider the ease of getting to the destination. Look for direct flights or convenient connections, as long travel times can be tiring for children. Also, check if the chosen location has good transportation infrastructure for exploring nearby attractions or islands.\n",
            "\n",
            "3. Family-Friendly Activities: Look for a destination that offers a wide range of activities suitable for all family members. Consider the availability of kid-friendly attractions, such as water parks, theme parks, or interactive museums. Also, check if the location offers outdoor activities like snorkeling, hiking, or wildlife encounters that can be enjoyed by the whole family.\n",
            "\n",
            "4. Accommodation Options: Research the availability of family-friendly accommodations that suit your needs. Look for resorts or hotels that offer spacious rooms or suites, kid's clubs, babysitting services, and amenities like pools or playgrounds. Consider the proximity of the accommodation to the beach or other attractions you plan to visit.\n",
            "\n",
            "5. Budget: Determine your budget and consider the cost of accommodation, flights, meals, and activities at the chosen destination. Some Caribbean islands are more expensive than others, so research the average prices for meals, transportation, and attractions to ensure it aligns with your budget. Additionally, consider the exchange rate and the overall cost of living in the destination country.\n"
          ]
        }
      ]
    },
    {
      "cell_type": "code",
      "source": [
        "print(call_openai(\"I want to celebrate graduating from college with my close friends. I was thinking about booking a trip to the Caribbean, what are the top 5 things to consider when picking a location to make this experience the most fun?\"))"
      ],
      "metadata": {
        "colab": {
          "base_uri": "https://localhost:8080/"
        },
        "id": "VqWa3X0QMoOI",
        "outputId": "28366087-9f69-4946-b6b6-a7a51034007c"
      },
      "execution_count": 18,
      "outputs": [
        {
          "output_type": "stream",
          "name": "stdout",
          "text": [
            "When picking a location in the Caribbean to celebrate your college graduation with friends, there are several factors to consider to ensure a fun and memorable experience. Here are the top five things to keep in mind:\n",
            "\n",
            "1. Accessibility: Choose a destination that is easily accessible for all your friends. Consider flight connections, travel time, and visa requirements. Opt for a location with direct flights or convenient connections to minimize travel hassles.\n",
            "\n",
            "2. Budget: Determine a budget that works for everyone in your group. The Caribbean offers a range of destinations with varying costs. Consider accommodation, food, activities, and transportation expenses. Look for destinations that offer a good balance between affordability and the experiences you desire.\n",
            "\n",
            "3. Activities and Entertainment: Research the range of activities and entertainment options available at each destination. Consider the interests and preferences of your friends. Whether you're looking for adventure sports, nightlife, cultural experiences, or simply relaxing on beautiful beaches, choose a location that offers a variety of activities to keep everyone engaged and entertained.\n",
            "\n",
            "4. Safety and Security: Prioritize safety when selecting a destination. Check travel advisories and ensure the chosen location has a good reputation for tourist safety. Look for destinations with well-established tourism infrastructure, reliable transportation, and a low crime rate. It's important to prioritize the well-being of your group.\n",
            "\n",
            "5. Accommodation Options: Consider the availability and variety of accommodation options at each destination. Determine whether you prefer all-inclusive resorts, vacation rentals, or boutique hotels. Ensure the chosen location has suitable accommodation that fits your group's needs and preferences.\n",
            "\n",
            "By considering these factors, you can select a Caribbean destination that suits your group's interests, budget, and safety requirements, ensuring a fantastic celebration of your college graduation with your close friends.\n"
          ]
        }
      ]
    },
    {
      "cell_type": "markdown",
      "source": [
        "Similar responses, justifications more contextual. Some safe responses ('accommodation', 'accessibility') which relate more to the planning aspect as opposed to the actual experience.  "
      ],
      "metadata": {
        "id": "llzf60pAS22u"
      }
    },
    {
      "cell_type": "markdown",
      "source": [
        "## Querying Based on Aspects"
      ],
      "metadata": {
        "id": "rx9x0X7rULrD"
      }
    },
    {
      "cell_type": "markdown",
      "source": [
        "### General"
      ],
      "metadata": {
        "id": "9poecmHqVf_c"
      }
    },
    {
      "cell_type": "code",
      "source": [
        "print(call_openai(\"Compare Negril Beach, Jamaica and Palm Beach, Aruba on the following factors: safety, entertainment, and budget. Mention which is better for each factor and why.\"))"
      ],
      "metadata": {
        "colab": {
          "base_uri": "https://localhost:8080/"
        },
        "id": "7ObM5SykUy40",
        "outputId": "f250913a-b03f-4340-9812-dea4f9241bd9"
      },
      "execution_count": 19,
      "outputs": [
        {
          "output_type": "stream",
          "name": "stdout",
          "text": [
            "Safety: Both Negril Beach, Jamaica and Palm Beach, Aruba are generally considered safe destinations for tourists. However, Aruba has a lower crime rate and is known for its friendly and welcoming atmosphere, making it slightly safer than Negril Beach.\n",
            "\n",
            "Entertainment: Negril Beach in Jamaica offers a vibrant and lively entertainment scene. It is famous for its reggae music, beach parties, and various water sports activities. On the other hand, Palm Beach in Aruba offers a more relaxed and upscale entertainment experience. It is known for its high-end resorts, casinos, and fine dining options. The choice between the two depends on personal preferences, but if you are looking for a more energetic and party-oriented atmosphere, Negril Beach may be the better option.\n",
            "\n",
            "Budget: In terms of budget, Negril Beach in Jamaica tends to be more affordable compared to Palm Beach in Aruba. Jamaica, in general, offers a wider range of budget-friendly accommodations, dining options, and activities. Aruba, being a more upscale destination, tends to have higher prices for accommodations and dining. If you are on a tighter budget, Negril Beach would be the better choice.\n",
            "\n",
            "Overall, the better option for safety would be Palm Beach, Aruba, while Negril Beach, Jamaica offers a more vibrant entertainment scene. In terms of budget, Negril Beach is more affordable. However, the choice ultimately depends on individual preferences and priorities.\n"
          ]
        }
      ]
    },
    {
      "cell_type": "code",
      "source": [
        "print(call_openai(\"Compare Crane Beach, Barbados and Pink Sands Beach, Bahamas on the following factors: weather, vibes, and activities. Mention which is better for each factor and why.\"))"
      ],
      "metadata": {
        "colab": {
          "base_uri": "https://localhost:8080/"
        },
        "id": "u7Ox7VkFVo85",
        "outputId": "96959334-5df4-405a-a92c-28ff32ca57a6"
      },
      "execution_count": 20,
      "outputs": [
        {
          "output_type": "stream",
          "name": "stdout",
          "text": [
            "Weather:\n",
            "Both Crane Beach, Barbados and Pink Sands Beach, Bahamas have warm and tropical climates. However, Barbados generally experiences more consistent and stable weather throughout the year, with temperatures ranging from 75°F to 85°F (24°C to 29°C). On the other hand, the Bahamas can be slightly more unpredictable, with temperatures ranging from 70°F to 90°F (21°C to 32°C). Overall, Barbados may be considered better for weather due to its more consistent and stable climate.\n",
            "\n",
            "Vibes:\n",
            "Crane Beach in Barbados offers a more serene and tranquil atmosphere. It is known for its natural beauty, with stunning cliffs and turquoise waters. The beach is less crowded, providing a sense of privacy and relaxation. Pink Sands Beach in the Bahamas, as the name suggests, offers a vibrant and lively atmosphere. The beach is famous for its pink-hued sand and is often frequented by tourists and locals alike. The energetic vibe and social atmosphere make Pink Sands Beach a better choice for those seeking a livelier beach experience.\n",
            "\n",
            "Activities:\n",
            "Both Crane Beach and Pink Sands Beach offer a variety of activities for visitors. Crane Beach in Barbados is ideal for swimming, snorkeling, and sunbathing. It also provides opportunities for hiking and exploring the nearby cliffs and caves. Pink Sands Beach in the Bahamas is perfect for water sports such as snorkeling, kayaking, and paddleboarding. Additionally, the Bahamas is renowned for its excellent diving spots, making Pink Sands Beach a better choice for diving enthusiasts. Overall, the activities available at each beach are quite similar, but Pink Sands Beach may have a slight edge due to its reputation as a diving hotspot.\n",
            "\n",
            "In conclusion, Crane Beach, Barbados is better for weather due to its more consistent climate, while Pink Sands Beach, Bahamas offers a livelier vibe and is better for diving enthusiasts. However, the choice ultimately depends on personal preferences and what one is seeking in a beach experience.\n"
          ]
        }
      ]
    },
    {
      "cell_type": "markdown",
      "source": [
        "### More Contextual"
      ],
      "metadata": {
        "id": "LFH5rOghVjb-"
      }
    },
    {
      "cell_type": "code",
      "source": [
        "print(call_openai(\"I am debating between taking my 4 kids and my wife to Negril Beach, Jamaica or Palm Beach, Aruba. What would you recommend based on the following factors: safety, entertainment, and budget?\"))"
      ],
      "metadata": {
        "colab": {
          "base_uri": "https://localhost:8080/"
        },
        "id": "_DvU54UqVcha",
        "outputId": "dc8ab806-9f5a-4fa8-d09c-9a63d3f91d20"
      },
      "execution_count": 21,
      "outputs": [
        {
          "output_type": "stream",
          "name": "stdout",
          "text": [
            "Both Negril Beach, Jamaica and Palm Beach, Aruba are popular destinations for families, but they have some differences in terms of safety, entertainment, and budget. Here's a breakdown of each factor to help you make a decision:\n",
            "\n",
            "Safety:\n",
            "- Aruba generally has a lower crime rate compared to Jamaica, making it a safer destination overall.\n",
            "- Negril Beach in Jamaica is relatively safe for tourists, but it's always recommended to exercise caution and be aware of your surroundings.\n",
            "\n",
            "Entertainment:\n",
            "- Negril Beach offers a vibrant and lively atmosphere with various water sports activities, live music, beach parties, and a bustling nightlife scene. It's known for its beautiful sunsets and reggae music culture.\n",
            "- Palm Beach in Aruba also offers a range of entertainment options, including water sports, snorkeling, and diving. It has a more relaxed and family-friendly atmosphere with many resorts offering activities for kids.\n",
            "\n",
            "Budget:\n",
            "- Jamaica, in general, tends to be more budget-friendly compared to Aruba. Accommodation, dining, and activities in Negril Beach may be more affordable, allowing you to stretch your budget further.\n",
            "- Aruba, being a more upscale destination, can be slightly more expensive. However, it offers a wider range of luxury resorts and dining options.\n",
            "\n",
            "Considering these factors, here's a summary of the recommendations:\n",
            "- If safety is a top concern and you prefer a more relaxed and family-friendly atmosphere, Palm Beach, Aruba would be a good choice.\n",
            "- If you're looking for a vibrant and lively atmosphere with a lower budget, Negril Beach, Jamaica would be a great option.\n",
            "\n",
            "Ultimately, the decision depends on your family's preferences and priorities. It may be helpful to discuss these factors with your family and consider what type of experience you all would enjoy the most.\n"
          ]
        }
      ]
    },
    {
      "cell_type": "code",
      "source": [
        "print(call_openai(\"I am going to party with my fellow college graduates, but we cannot decide between Crane Beach, Barbados and Pink Sands Beach, Bahamas. What would you recommend, considering the following factors: weather, party vibes, and activities?\"))"
      ],
      "metadata": {
        "colab": {
          "base_uri": "https://localhost:8080/"
        },
        "id": "n5LlGbPmW4He",
        "outputId": "6908aa98-f46b-422c-9edd-2de0fcdd983b"
      },
      "execution_count": 22,
      "outputs": [
        {
          "output_type": "stream",
          "name": "stdout",
          "text": [
            "Both Crane Beach in Barbados and Pink Sands Beach in the Bahamas offer beautiful locations for a party with fellow college graduates. Here's a breakdown of the factors you mentioned:\n",
            "\n",
            "1. Weather:\n",
            "   - Barbados: The weather in Barbados is generally warm and sunny year-round, with temperatures ranging from 75°F to 85°F (24°C to 29°C). It has a tropical climate, and you can expect minimal rainfall during the party season.\n",
            "   - Bahamas: The Bahamas also has a tropical climate, with temperatures ranging from 70°F to 85°F (21°C to 29°C). However, it's worth noting that the Bahamas can experience more rainfall and occasional hurricanes during the summer months.\n",
            "\n",
            "2. Party Vibes:\n",
            "   - Barbados: Barbados is known for its vibrant party scene, especially in areas like St. Lawrence Gap and Bridgetown. You'll find numerous beach bars, clubs, and restaurants offering lively nightlife and entertainment options.\n",
            "   - Bahamas: The Bahamas, particularly Nassau and Paradise Island, also offer a lively party atmosphere. There are plenty of beachfront bars, nightclubs, and resorts that cater to a younger crowd, making it a popular destination for partygoers.\n",
            "\n",
            "3. Activities:\n",
            "   - Barbados: Apart from partying, Barbados offers a range of activities such as snorkeling, scuba diving, surfing, and catamaran cruises. You can also explore historic sites, visit wildlife reserves, or enjoy water sports like jet skiing and paddleboarding.\n",
            "   - Bahamas: The Bahamas is renowned for its stunning beaches and crystal-clear waters, making it an ideal destination for water activities like snorkeling, diving, and swimming with dolphins. You can also explore the vibrant marine life, go on boat tours, or visit the famous Atlantis Paradise Island resort.\n",
            "\n",
            "Considering these factors, both destinations offer great options for a party with fellow college graduates. If you're looking for a more vibrant party scene, Barbados might be the better choice. However, if you're seeking a mix of partying and water activities, the Bahamas could be a fantastic option. Ultimately, it depends on your preferences and what kind of experience you and your friends are looking for.\n"
          ]
        }
      ]
    },
    {
      "cell_type": "markdown",
      "source": [
        "All prompts structure the explanation as expected: analysis of individual factors, followed by general conclusion/summary. This can be improved to be formatted as a table."
      ],
      "metadata": {
        "id": "hLfrK_7SXbxk"
      }
    },
    {
      "cell_type": "markdown",
      "source": [
        "# Review-Augmented"
      ],
      "metadata": {
        "id": "CBggnuG9Wa-B"
      }
    },
    {
      "cell_type": "code",
      "source": [
        "reviews = \"\"\"Pink Sands Beach, Barbados Reviews:\n",
        "1) One of the most spectacular beaches I've ever been to, and I've been to alot of beaches! 3 miles of soft, pink sand with turquoise water, boutique hotels and restaurants.Been going since 1996\n",
        "2) Like many beaches on the eastern side it is a pink sand beach. This is in Harbour island so it is famous but not so nice. Too many buildings and people.\n",
        "3) Very clean, very fine sand with a beautiful pink touch. Shallow water perfect for all kind of beach fun. Restaurants and little shacks providing all necessities. Not crowded when we visited, even though peak season.\n",
        "4) Beach is amazing - perfect for walking, strolling, swimming, over 2 miles long. Soft, pink sand, wide beach. Perfection!\n",
        "5) Even though it was supposed to be the busiest time of the year… This beach was still not overly crowded. Absolutely breathtaking views and we were able to find some shade as well. Great little tiki bar on the beach serves food and beverages. If you’re looking for shells or sharks teeth… This is not the place. Spotless smooth sand perfect for sand castle making!\n",
        "6) We went to the Pink sand beach from Nassau one way by ferry, which was extremely expensive and 3 hrs long and on the way back- by plane from North Eleutera which was 20 min long plus waiting time for check-in and boarding. Overall impression about the pink sand beach- disappointing. The sand is not really pink but cream colour. So, if you don't know it is pink you would not guess. There was no bars or restaurants at the beach. Only 1 poor stand with coke, sprite and beer. The only restaurant which we could see around was closed. You had to pay 25 USD for 2 beds and umbrella because extremely hot and impossible to lie on the sun without umbrella. Sand is so fine that it gets everywhere and hard to clean it from the skin. It feels more like a clay. The view of the beach was nice but there are plenty of nicer beaches across Bahamas. We spent only 2 hrs at the beach and left because we were hungry and had to go to into the town to get the meal. The trip cost me 400 eur for 2 persons and it does not worth it.\n",
        "7) Compared to some other beaches in the world, this is not a great beach. Though it's a nice long beach, you can't really walk along the beach as there is always at least a foot of seaweed washed up on the shores. In front of some of the resorts they make rake the seaweed but for the most part it's everywhere. The day we were there, it was extremely windy and it made the stay on the beach miserable, some of the resorts have those shelters where you're covered so I guess this island might see a lot of windy days instead of the occasional one. The ferry ride to harbor island from Nassau is expensive so unless you have absolutely nothing else to do I wouldn't recommend harbor island.\n",
        "8) The sands are a pale pink and fairly soft. There was tons of sea grass in large piles and scattered. We have definitely seen prettier beaches in the Bahamas. It was fairly commercial with lots of umbrellas and lounge chairs. We weren't fans of the island in general...too touristy!\n",
        "9) We wandered along here at low tide and it was gorgeous. There were a lot of starfish who were drying out due to the extreme low tide. Would definitely recommend for a nice walk/ a romantic event.\n",
        "10) We walked in and were stunned by the amazing views of pink sands beach. Vincent and his team were so friendly and attentive. Our lunch was delicious. If you visit Harbour Island, you definitively want to have at least one meal there.\n",
        "\n",
        "Palm Beach, Aruba Reviews:\n",
        "1) It is very difficult for us to find any major negatives for such a pristine beach. It is absolutely stunning, turquoise water and soft white sand, for us it is as good as it gets. However, it is crowded. We get the same beautiful beach with a lot less crowding at Eagle Beach and we have been doing this for many years. It is matter of personal choice, and Eagle Beach with less crowding compared to Palm Beach is our preference.\n",
        "2) I'm not sure what happened... While the water remains picturisque from a distance, when your swimming in it you can barely see your hand in front of your face. The beach sand has also begun to accumulate more debris as well. Don't get me wrong it's a beautiful beach but, something is off compared to my last visit just 22 months ago. Back then you could snorkel right off the beach and see all the way to the bottom. Heck my son found a $20 Bill in the sand under water... That's how clear it used to be. I hope it returns to the way it was back in 2021.\n",
        "3) Palm beach is set on Aruba's western coast in a high tourist area among many hotels. The beach itself is nice, but since being in that busy area means it's pretty crowded and annoying with water sports. I found the Arashi beach and Baby beach to be the island's best.\n",
        "4) The Palm Beach is so beautiful. It’s crystal clear water, soft sand, lots of activities availabile and people, but you don’t feel crowded. Great beach!\n",
        "5) The sand on the beach is like sugar and the water clear and blue. Not very crowded, which I like a lot.\n",
        "6) Beautiful beach. Great staff. Windy. The sand is a bit rough but gets better closer to the water. You need something to hold your towel or it will be blown away.\n",
        "7) I guess I expected clear blue green calm waters. We didn’t get that! Instead we got some waves, sea weed about 25 feet out and a drop down that wasn’t easy to navigate when entering or leaving the water. Not my fav beach.\n",
        "8) This is a spectacularly beautiful beach. we swan and played here multiple days. This is the area of the high rise hotels. The beaches are very clean, the sand is white powder soft, the beach is soft. No stones as you wade into the water. The water is calm, clear and has stunning shades of blue. There are many vendors on the beach for water sports and all other activities. The hotel bars serve the guests on the beach. building sand castles. playing in the water, swimming, snorkeling - its just an amazing time building memories with wife and my 2 kids - son 11 and daughter 4. It was a trip of a lifetime\n",
        "9) Warm, soft water. Slight roll of waves some days to splash in. Sandy bottom. Could swim in here for hours. One of the best beaches in the world.\n",
        "10) This may be the best beach on the island. It's a bit busy but it's gorgeous so it's worth it. Great place to relax and unwind.\n",
        "\"\"\""
      ],
      "metadata": {
        "id": "RQY-s2nhYMy-"
      },
      "execution_count": 29,
      "outputs": []
    },
    {
      "cell_type": "markdown",
      "source": [
        "Few reviews per destination, in future will be more comprehensive"
      ],
      "metadata": {
        "id": "zYSfz2ymjNS0"
      }
    },
    {
      "cell_type": "markdown",
      "source": [
        "## Aspects"
      ],
      "metadata": {
        "id": "UIdXlvS2iCro"
      }
    },
    {
      "cell_type": "code",
      "source": [
        "print(call_openai(f\"Rank 5 factors to consider when deciding between Pink Sands Beach, Barbados and Palm Beach, Aruba, given the following reviews. Reviews: {reviews}\"))"
      ],
      "metadata": {
        "colab": {
          "base_uri": "https://localhost:8080/"
        },
        "id": "JKxHWaBqpLOk",
        "outputId": "6145ca82-246c-4bf4-c322-1a3b09050e2f"
      },
      "execution_count": 31,
      "outputs": [
        {
          "output_type": "stream",
          "name": "stdout",
          "text": [
            "Based on the reviews, here are the 5 factors to consider when deciding between Pink Sands Beach, Barbados and Palm Beach, Aruba:\n",
            "\n",
            "1) Beach Quality: Pink Sands Beach in Barbados is described as having soft, pink sand and turquoise water. Reviewers mention that it is perfect for walking, swimming, and beach fun. On the other hand, Palm Beach in Aruba is described as having soft white sand and crystal clear water. Reviewers mention that the sand is like sugar and the water is clear and blue. Both beaches are praised for their beauty, but the specific qualities of the sand and water may be a factor to consider.\n",
            "\n",
            "2) Crowding: Pink Sands Beach in Barbados receives mixed reviews regarding crowding. Some reviewers mention that it is not crowded even during peak season, while others mention that it can be crowded with buildings and people. On the other hand, Palm Beach in Aruba is described as crowded by some reviewers, while others mention that it is not very crowded. If you prefer a less crowded beach, Eagle Beach in Aruba is mentioned as an alternative to Palm Beach.\n",
            "\n",
            "3) Amenities: Pink Sands Beach in Barbados receives mixed reviews regarding amenities. Some reviewers mention the presence of boutique hotels and restaurants, while others mention a lack of bars and restaurants at the beach. On the other hand, Palm Beach in Aruba is mentioned to have many hotels, vendors for water sports, and hotel bars serving guests on the beach. If amenities are important to you, Palm Beach may be a better choice.\n",
            "\n",
            "4) Water Clarity: Pink Sands Beach in Barbados receives positive reviews regarding water clarity, with reviewers mentioning shallow water perfect for beach fun. On the other hand, Palm Beach in Aruba receives mixed reviews regarding water clarity. Some reviewers mention crystal clear water, while others mention waves and seaweed. If water clarity is important to you, Pink Sands Beach may be a better choice.\n",
            "\n",
            "5) Overall Impression: Pink Sands Beach in Barbados receives mixed reviews regarding overall impression. Some reviewers describe it as one of the most spectacular beaches they've ever been to, while others mention disappointment with the sand color and lack of amenities. On the other hand, Palm Beach in Aruba receives positive reviews regarding overall impression, with reviewers describing it as a beautiful beach with lots of activities available. If overall impression is important to you, Palm Beach may be a better choice.\n",
            "\n",
            "Ultimately, the decision between Pink Sands Beach, Barbados and Palm Beach, Aruba will depend on your personal preferences for beach quality, crowding, amenities, water clarity, and overall impression.\n"
          ]
        }
      ]
    },
    {
      "cell_type": "code",
      "source": [
        "print(call_openai(f\"I am planning a romantic trip with my wife to either Pink Sands Beach, Barbados or Palm Beach, Aruba. Given the following reviews, what are the top 5 factors to consider? Reviews: {reviews}\"))"
      ],
      "metadata": {
        "colab": {
          "base_uri": "https://localhost:8080/"
        },
        "id": "k5FgMQc1daoK",
        "outputId": "66e5103e-1eea-405a-ec44-2e33f4efc557"
      },
      "execution_count": 32,
      "outputs": [
        {
          "output_type": "stream",
          "name": "stdout",
          "text": [
            "Based on the reviews, the top 5 factors to consider for the romantic trip are:\n",
            "\n",
            "1) Beach Quality: Both Pink Sands Beach in Barbados and Palm Beach in Aruba are praised for their beautiful beaches with soft sand and clear water. Consider the preference for pink sand (Barbados) or white sand (Aruba).\n",
            "\n",
            "2) Crowdedness: Pink Sands Beach in Barbados generally receives positive reviews for not being overly crowded, even during peak season. On the other hand, Palm Beach in Aruba is mentioned as being crowded, but some reviewers prefer the less crowded Eagle Beach in Aruba.\n",
            "\n",
            "3) Activities and Amenities: Palm Beach in Aruba is highlighted for its range of activities and amenities, including water sports and vendors. Pink Sands Beach in Barbados is mentioned to have restaurants and little shacks providing necessities, but some reviewers found the options limited.\n",
            "\n",
            "4) Water Clarity: While Pink Sands Beach in Barbados is described as having turquoise water, some reviewers mention that Palm Beach in Aruba has clear and blue water. Consider the preference for water clarity.\n",
            "\n",
            "5) Overall Experience: Reviews for both beaches are generally positive, but some reviewers express disappointment with Pink Sands Beach in Barbados, mentioning factors such as the sand not being as pink as expected and limited dining options. On the other hand, Palm Beach in Aruba receives praise for its beauty and is described as a great place to relax and unwind.\n",
            "\n",
            "Consider these factors to make an informed decision based on personal preferences for the romantic trip.\n"
          ]
        }
      ]
    },
    {
      "cell_type": "markdown",
      "source": [
        "Reviews skew aspects to be the same, despite the extra context (i.e. context is less relevant as it should be)."
      ],
      "metadata": {
        "id": "DrGYP1yfpu7n"
      }
    },
    {
      "cell_type": "markdown",
      "source": [
        "## Comparing Destinations"
      ],
      "metadata": {
        "id": "UejrYjewiFqH"
      }
    },
    {
      "cell_type": "code",
      "source": [
        "print(call_openai(f\"I am debating between taking my 4 kids and my wife to Negril Beach, Jamaica or Palm Beach, Aruba. What would you recommend based on the following factors: food, entertainment, and budget? Reviews: {reviews}\"))"
      ],
      "metadata": {
        "colab": {
          "base_uri": "https://localhost:8080/"
        },
        "id": "72y_0AG1iR3V",
        "outputId": "3b6a518b-f6c4-4257-b9e4-a3df4826b290"
      },
      "execution_count": 33,
      "outputs": [
        {
          "output_type": "stream",
          "name": "stdout",
          "text": [
            "Based on the reviews, here is a comparison between Negril Beach, Jamaica and Palm Beach, Aruba:\n",
            "\n",
            "Food:\n",
            "- Negril Beach, Jamaica: The reviews do not specifically mention the food options at the beach, so it is unclear how the dining options are.\n",
            "- Palm Beach, Aruba: The reviews generally mention that there are many vendors on the beach offering water sports and other activities. Some hotel bars also serve guests on the beach, indicating that there are dining options available.\n",
            "\n",
            "Entertainment:\n",
            "- Negril Beach, Jamaica: The reviews do not mention specific entertainment options at the beach.\n",
            "- Palm Beach, Aruba: The reviews mention that there are lots of activities available on the beach, such as water sports. Some reviewers also mention swimming, snorkeling, and playing in the water as enjoyable activities.\n",
            "\n",
            "Budget:\n",
            "- Negril Beach, Jamaica: The reviews do not provide information on the cost of visiting the beach or any additional expenses.\n",
            "- Palm Beach, Aruba: One reviewer mentions that the beach is crowded, indicating that it is a popular tourist destination. This could potentially mean higher prices for accommodations and activities in the area.\n",
            "\n",
            "Based on the factors of food, entertainment, and budget, Palm Beach, Aruba seems to have more dining options and entertainment activities available on the beach. However, it is important to consider other factors such as accommodation options, transportation costs, and the preferences of your family when making a decision.\n"
          ]
        }
      ]
    },
    {
      "cell_type": "code",
      "source": [
        "print(call_openai(f\"I am going to party with my fellow college graduates, but we cannot decide between Negril Beach, Jamaica or Palm Beach, Aruba. What would you recommend, considering the following factors: activities, crowdedness, and party vibes? Reviews: {reviews}\"))"
      ],
      "metadata": {
        "colab": {
          "base_uri": "https://localhost:8080/"
        },
        "id": "1wXzak_4iUas",
        "outputId": "0a4b996b-3dbe-41ef-fc83-764fdec70c25"
      },
      "execution_count": 34,
      "outputs": [
        {
          "output_type": "stream",
          "name": "stdout",
          "text": [
            "Based on the reviews, here is a comparison between Negril Beach, Jamaica and Palm Beach, Aruba:\n",
            "\n",
            "Activities:\n",
            "- Negril Beach, Jamaica: The reviews do not specifically mention activities, but there are mentions of boutique hotels and restaurants, suggesting that there are options for dining and relaxation.\n",
            "- Palm Beach, Aruba: The reviews mention various activities available, such as water sports, swimming, snorkeling, and playing in the water. There are also vendors on the beach offering water sports and other activities.\n",
            "\n",
            "Crowdedness:\n",
            "- Negril Beach, Jamaica: The reviews generally mention that the beach was not crowded, even during peak season.\n",
            "- Palm Beach, Aruba: The reviews mention that Palm Beach can be crowded, especially due to its location in a high tourist area with many hotels. However, one review mentions that it doesn't feel crowded despite the number of people.\n",
            "\n",
            "Party Vibes:\n",
            "- Negril Beach, Jamaica: The reviews do not specifically mention party vibes, but Negril is known for its vibrant nightlife and beach parties.\n",
            "- Palm Beach, Aruba: The reviews do not specifically mention party vibes, but Palm Beach is located in a high tourist area with many hotels, suggesting that there may be options for nightlife and entertainment.\n",
            "\n",
            "Based on these factors, if you are looking for a less crowded beach with potential party vibes, Negril Beach, Jamaica may be a better choice. However, if you are looking for a beach with a wide range of activities and don't mind some crowds, Palm Beach, Aruba could be a good option.\n"
          ]
        }
      ]
    },
    {
      "cell_type": "markdown",
      "source": [
        "Destination comparison based on passed in aspects is difficult, given smaller subset of reviews. At times, information from internal knowledge is supplanted when reviews don't mention certain aspects."
      ],
      "metadata": {
        "id": "bEBmMG4WqT9g"
      }
    }
  ]
}