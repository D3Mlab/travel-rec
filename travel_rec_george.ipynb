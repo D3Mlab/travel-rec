{
 "cells": [
  {
   "cell_type": "markdown",
   "metadata": {},
   "source": [
    "## Initialization"
   ]
  },
  {
   "cell_type": "code",
   "execution_count": 1,
   "metadata": {},
   "outputs": [],
   "source": [
    "%reload_ext dotenv\n",
    "%dotenv"
   ]
  },
  {
   "cell_type": "code",
   "execution_count": 2,
   "metadata": {},
   "outputs": [],
   "source": [
    "from jinja2 import Environment, FileSystemLoader\n",
    "import openai\n",
    "import os\n",
    "\n",
    "# Assuming the Jinja2 template file is in the same directory as this script\n",
    "file_loader = FileSystemLoader('templates')\n",
    "env = Environment(loader=file_loader)\n",
    "\n",
    "# load from .env\n",
    "openai.api_key = os.getenv(\"OPENAI_API_KEY\")"
   ]
  },
  {
   "cell_type": "code",
   "execution_count": 3,
   "metadata": {},
   "outputs": [],
   "source": [
    "def generate_gpt_output(prompt_name, **kwargs):\n",
    "        template = env.get_template(prompt_name)\n",
    "\n",
    "\n",
    "        prompt = template.render(**kwargs)\n",
    "        print(prompt)\n",
    "        # Define the variables to be used in the template\n",
    "        messages = [\n",
    "                {\"role\": \"system\", \"content\": \"You are a helpful assistant.\"},\n",
    "                {\"role\": \"user\", \"content\": prompt},\n",
    "        ]\n",
    "\n",
    "        # run the prompt with gpt3.5\n",
    "        response = openai.ChatCompletion.create(\n",
    "            model=\"gpt-3.5-turbo\",\n",
    "            messages=messages,\n",
    "            temperature=kwargs['temperature'] if 'temperature' in kwargs else 0.9,\n",
    "            max_tokens=kwargs['max_tokens'] if 'max_tokens' in kwargs else 500,\n",
    "        )\n",
    "\n",
    "        # Print the response\n",
    "        return response['choices'][0]['message']['content']\n"
   ]
  },
  {
   "cell_type": "markdown",
   "metadata": {},
   "source": [
    "## Internal Knowledge"
   ]
  },
  {
   "cell_type": "code",
   "execution_count": 4,
   "metadata": {},
   "outputs": [
    {
     "name": "stdout",
     "output_type": "stream",
     "text": [
      "I'm going on a trip to Paris for 3 days.\n",
      "\n",
      "Give me suggestions for things to do with my wife and young children there. \n",
      "Format the output as a JSON list as follows:\n",
      "[{\"name\":<name of thing to do 1>, \"justification\":<why is thing to do 1 a good option>}, {\"name\":<name of thing to do 2>, \"justification\":<why is thing to do 2 a good option>}, ...]\n",
      "[\n",
      "  {\n",
      "    \"name\": \"Visit the Eiffel Tower\",\n",
      "    \"justification\": \"The Eiffel Tower is an iconic landmark in Paris that offers stunning panoramic views of the city. It's a great opportunity for your children to learn about its history and enjoy the view from the top.\"\n",
      "  },\n",
      "  {\n",
      "    \"name\": \"Explore the Louvre Museum\",\n",
      "    \"justification\": \"The Louvre Museum houses the famous Mona Lisa painting and many other art masterpieces. It offers special activities and workshops for children, making it an educational and enjoyable experience for the whole family.\"\n",
      "  },\n",
      "  {\n",
      "    \"name\": \"Take a boat ride on the Seine River\",\n",
      "    \"justification\": \"A boat ride on the Seine River allows you to see Paris from a different perspective while enjoying the beautiful scenery. It's a relaxing and fun activity that your children will love.\"\n",
      "  },\n",
      "  {\n",
      "    \"name\": \"Visit Disneyland Paris\",\n",
      "    \"justification\": \"Disneyland Paris is a magical theme park where your children can meet their favorite Disney characters, enjoy thrilling rides, and watch spectacular shows. It guarantees a day full of excitement and joy for the whole family.\"\n",
      "  },\n",
      "  {\n",
      "    \"name\": \"Stroll around Montmartre\",\n",
      "    \"justification\": \"Montmartre is a charming neighborhood known for its artistic history and bohemian atmosphere. You can visit the iconic Sacré-Cœur Basilica, explore the artist's square, and enjoy street performances. It's a great place for a leisurely family walk.\"\n",
      "  }\n",
      "]\n"
     ]
    }
   ],
   "source": [
    "out = generate_gpt_output('internal_knowledge_1.jinja2', destination='Paris', trip_length='3 days', context=\"my wife and young children\")\n",
    "print(out)"
   ]
  },
  {
   "cell_type": "code",
   "execution_count": 5,
   "metadata": {},
   "outputs": [
    {
     "name": "stdout",
     "output_type": "stream",
     "text": [
      "I'm going on a trip to Hamilton for 1 week.\n",
      "\n",
      "Give me suggestions for things to do with older parents there. \n",
      "Format the output as a JSON list as follows:\n",
      "[{\"name\":<name of thing to do 1>, \"justification\":<why is thing to do 1 a good option>}, {\"name\":<name of thing to do 2>, \"justification\":<why is thing to do 2 a good option>}, ...]\n",
      "[{\"name\": \"Visit the Royal Botanical Gardens\", \"justification\": \"The Royal Botanical Gardens in Hamilton is a beautiful place to explore and enjoy nature. It offers a variety of walking trails, serene gardens, and stunning views. It's a great option for older parents who appreciate peaceful surroundings and natural beauty.\"},\n",
      "{\"name\": \"Explore Dundurn Castle\", \"justification\": \"Dundurn Castle is a historic mansion with beautiful grounds located in Hamilton. It provides a glimpse into the city's past and offers guided tours to learn about its history. Older parents who enjoy history and architecture will appreciate this attraction.\"},\n",
      "{\"name\": \"Take a cruise on Hamilton Harbour\", \"justification\": \"A relaxing cruise on Hamilton Harbour is a great way to spend time with older parents. They can enjoy the scenic views of the waterfront, learn about the city's maritime history, and have a leisurely time on the water.\"},\n",
      "{\"name\": \"Visit the Art Gallery of Hamilton\", \"justification\": \"The Art Gallery of Hamilton is a fantastic option for art enthusiasts or those who appreciate visual arts. It features a diverse collection of Canadian and international art, including paintings, sculptures, and contemporary pieces.\"},\n",
      "{\"name\": \"Take a stroll along Bayfront Park\", \"justification\": \"Bayfront Park is a lovely waterfront park offering beautiful views of Lake Ontario. Older parents can enjoy a peaceful walk along the waterfront, relax on benches, and take in the serene atmosphere of the park.\"},\n",
      "{\"name\": \"Explore the Canadian Warplane Heritage Museum\", \"justification\": \"The Canadian Warplane Heritage Museum is a must-visit for aviation enthusiasts and history buffs. It houses a large collection of military aircraft and offers educational exhibits. Older parents who have an interest in aviation or World War II history will find this museum fascinating.\"},\n",
      "{\"name\": \"Visit the Hamilton Farmers' Market\", \"justification\": \"The Hamilton Farmers' Market is a lively place where older parents can explore a wide variety of local produce, baked goods, and specialty food items. It's a great opportunity to support local businesses, try delicious foods, and experience the vibrant atmosphere of the market.\"},\n",
      "{\"name\": \"Take a scenic drive along the Niagara Escarpment\", \"justification\": \"The Niagara Escarpment offers breathtaking views and is a designated UNESCO World Biosphere Reserve. Taking a scenic drive along its winding roads allows older parents to admire the natural beauty, picturesque landscapes, and charming small towns along the way.\"}]\n"
     ]
    }
   ],
   "source": [
    "out = generate_gpt_output('internal_knowledge_1.jinja2', destination='Hamilton', trip_length='1 week', context=\"older parents\")\n",
    "print(out)"
   ]
  },
  {
   "cell_type": "code",
   "execution_count": 7,
   "metadata": {},
   "outputs": [
    {
     "name": "stdout",
     "output_type": "stream",
     "text": [
      "I'm going on a trip to Miami Beach for a weekend.\n",
      "\n",
      "Give me suggestions for things to do with college friends there. \n",
      "Format the output as a JSON list as follows:\n",
      "[{\"name\":<name of thing to do 1>, \"justification\":<why is thing to do 1 a good option>}, {\"name\":<name of thing to do 2>, \"justification\":<why is thing to do 2 a good option>}, ...]\n",
      "[{\"name\": \"South Beach\", \"justification\": \"South Beach is one of the most popular attractions in Miami Beach, known for its beautiful sandy beaches, vibrant nightlife, and trendy restaurants and bars.\"},\n",
      "{\"name\": \"Art Deco Historic District\", \"justification\": \"The Art Deco Historic District is a must-visit for architecture enthusiasts, with its colorful and iconic buildings from the 1930s and 1940s.\"},\n",
      "{\"name\": \"Wynwood Walls\", \"justification\": \"Wynwood Walls is an outdoor street art museum showcasing vibrant and creative murals by local and international artists, making it a great place for art lovers.\"},\n",
      "{\"name\": \"Boat Tour of Biscayne Bay\", \"justification\": \"A boat tour of Biscayne Bay is a fun and scenic way to explore Miami Beach's waterfront, with stunning views of the city skyline and the chance to spot marine life.\"},\n",
      "{\"name\": \"Lincoln Road Mall\", \"justification\": \"Lincoln Road Mall is a pedestrian-only street lined with shops, restaurants, and cafes, offering a great place to shop, dine, and people-watch.\"},\n",
      "{\"name\": \"Pérez Art Museum Miami (PAMM)\", \"justification\": \"PAMM is a contemporary art museum located in downtown Miami, featuring a diverse collection of modern and contemporary art, perfect for art enthusiasts.\"},\n",
      "{\"name\": \"Miami Seaquarium\", \"justification\": \"The Miami Seaquarium is a popular attraction for animal lovers, offering various shows and exhibits featuring dolphins, sea lions, and other marine animals.\"},\n",
      "{\"name\": \"Everglades National Park\", \"justification\": \"Just a short drive from Miami Beach, Everglades National Park is a unique and diverse ecosystem, providing opportunities for hiking, wildlife spotting, and airboat tours.\"},\n",
      "{\"name\": \"Nightclubbing in Miami\", \"justification\": \"Miami is famous for its vibrant nightlife scene, with numerous nightclubs and bars offering a variety of music genres and experiences for those looking to dance the night away.\"},\n",
      "{\"name\": \"Miami Beach Food Tour\", \"justification\": \"A food tour in Miami Beach allows you to experience the diverse culinary scene, taste delicious local dishes, and learn about the city's cultural history through its food.\"}]\n"
     ]
    }
   ],
   "source": [
    "out = generate_gpt_output('internal_knowledge_1.jinja2', destination='Miami Beach', trip_length='a weekend', context=\"college friends\")\n",
    "print(out)"
   ]
  },
  {
   "cell_type": "markdown",
   "metadata": {},
   "source": [
    "## Review-Augmented"
   ]
  },
  {
   "cell_type": "code",
   "execution_count": 6,
   "metadata": {},
   "outputs": [
    {
     "name": "stdout",
     "output_type": "stream",
     "text": [
      "I'm going on a trip to Miami Beach for a weekend.\n",
      "\n",
      "Here are some reviews about Miami Beach. Use them to help create a list of things to do there:\n",
      "Amazing city with diversity and energy. Appreciation of properties exceeds most of the nation, so the housing market is expensive. Schools? City has two above average elementary schools, North Beach Elem (located actually in mid-beach) and South Pointe Elem. The high school has a Intl Baccalaureate program. South Beach is a tourist mess these days with high crime and dirty streets. Mid Beach is the sleepy suburban area. North Beach is more affordable, but residents have to use private schools or finagle a way into other public schools.\n",
      "Miami Beach was a wonderful experience in my life. I had the opportunity to live in a place that felt like home, with the beach, locals and people full of life.In this location you will be able to feel the true experience of living in Miami. You have food, clothing and entertainment stores on every corner. On the other hand, sometimes there are homeless, which is not the best, but they are respectful and not disturbing at all. In conclusion, for me this place left a huge mark on me; I would love to be able to return and live here again in the future.\n",
      "I loved the outdoor life and green love that is commonly seen around Miami Beach. Everywhere you go there's a vibe like no other. Residents love to go to the beach, roller skate, exercise, and overall spend each of their days as an ongoing party as if they were on vacation each and every week. However, I have noticed that in my community there is a grave issue with homelessness, particularly regarding individuals with appeared mental impairment, and I would love to see these individuals in my community be taken care of in centers where they can get appropriate treatment, resources like counseling, and participate in programs to recuperate their life.\n",
      "North Beach is great for families. Quiet neighborhoods. Easy access to the beach and lots of space for walking.\n",
      "Miami Beach is one of the most walkable cities. It should be one of the most bicycle friendly too but the reviews are mixed. I lived there as a child and of course its grown and is a huge spring break place. That can be good to some and bad for others. My biggest concern is that it will be under water in the not-too-distant future. I've read every scientific and news article and in sum they paint a negative future- street heightening is controversial but seems helpful. Real estate of course is going to suffer. Although my name is Fischer it does not mean I want to swim everywhere.\n",
      "I've lived in Miami Beach for 15 years and I just love it because of how many vibrant areas there are around town. You can bike anywhere you want with the green-paved bike lanes and because of the proximity of the different services and locales that Miami beach has to offer.\n",
      "I loved the outdoor life and green love that is commonly seen around Miami Beach. Everywhere you go there's a vibe like no other. Residents love to go to the beach, roller skate, exercise, and overall spend each of their days as an ongoing party as if they were on vacation each and every week. However, I have noticed that in my community there is a grave issue with homelessness, particularly regarding individuals with appeared mental impairment, and I would love to see these individuals in my community be taken care of in centers where they can get appropriate treatment, resources like counseling, and participate in programs to recuperate their life.\n",
      "I may be biased, but believe me there is no other place quite like \"the 305,\" or known more commonly as Miami Beach. Hip Hop meets the beach, Wynwood art and palm trees, make the typical Miamian. though I've lived in many, many places; no place has felt like home till I came here.\n",
      "Miami Beach is a beautiful city with lots of diversity in which you can meet people of various backgrounds. You can also enjoy the beach and the parks located near the area which are both entertaining and family-friendly. What I would like to see change in the city would be the overall cleanliness of the streets. Moreover, I would like to see inflation go down in order for prices to be more in line with people's wages.\n",
      "Safety has to be improved for residents and tourists. Unfortunately the perception of the city as a vacation and party area provides unsecure environments.\n",
      "I love the beauty of the city. I'd like to see more diversity and acceptance of all races in Miami Beach. As the population is heavily of Latino descent, I feel they are disproportionately represented in positions of power here in this city.\n",
      "I like that it is a pedestrian friendly city and that we have a nice beach. I like diversity and I find that living here.\n",
      "Great place to live, friendly neighbors, blue skies, walk to the beach, what more can you ask for? Police everywhere to keep it safe, 4 parks within 5 blocks of my apartment.\n",
      "I love it down here. I was born and raised in Detroit Michigan, with all the snow and shivers. Now, getting to live in this beautiful palm tree'd paradise is just a dream come true.\n",
      "I love the sense of community that we have and the easy going life style that everyone has. I have lived on the beach my whole life and never had any problems with security or ever felt un easy, even in the busy night life. Things are very close to each other which makes it easy to walk or ride bike since traffic can be heavy at times.\n",
      "\n",
      "\n",
      "Give me suggestions for things to do with college friends there. \n",
      "Format the output as a JSON list as follows:\n",
      "[{\"name\":<name of thing to do 1>, \"justification\":<why is thing to do 1 a good option>}, {\"name\":<name of thing to do 2>, \"justification\":<why is thing to do 2 a good option>}, ...]\n",
      "[{\"name\": \"Explore South Beach\", \"justification\": \"South Beach is known for its vibrant atmosphere, beautiful beaches, and lively nightlife. It's a great place to soak up the sun, enjoy water sports, and experience the energy of Miami's party scene.\"},\n",
      "{\"name\": \"Visit Wynwood Walls\", \"justification\": \"Wynwood Walls is an outdoor art gallery featuring colorful murals and graffiti by local and international artists. It's a unique and creative space that offers a great backdrop for photos and a chance to appreciate Miami's vibrant art scene.\"},\n",
      "{\"name\": \"Take a bike ride along the beach\", \"justification\": \"Miami Beach is known for its bike-friendly streets and green-paved bike lanes. Rent bikes and enjoy a leisurely ride along the beach, taking in the ocean views and exploring different neighborhoods.\"},\n",
      "{\"name\": \"Explore Lincoln Road Mall\", \"justification\": \"Lincoln Road Mall is a pedestrian-only street filled with shops, restaurants, and entertainment options. It's a popular spot for shopping, people-watching, and enjoying outdoor dining.\"},\n",
      "{\"name\": \"Visit the Miami Beach Botanical Garden\", \"justification\": \"The Miami Beach Botanical Garden is a serene oasis in the heart of the city. Explore the lush gardens, attend educational programs, and enjoy the peaceful surroundings.\"},\n",
      "{\"name\": \"Experience the nightlife at LIV Nightclub\", \"justification\": \"LIV Nightclub is one of Miami Beach's most popular and glamorous nightlife spots. Dance the night away to music from top DJs and enjoy the vibrant party atmosphere.\"},\n",
      "{\"name\": \"Relax on the beach\", \"justification\": \"Miami Beach is known for its beautiful sandy beaches. Spend a day soaking up the sun, swimming in the ocean, and enjoying beachside activities.\"},\n",
      "{\"name\": \"Take a boat tour of Biscayne Bay\", \"justification\": \"Explore the scenic beauty of Biscayne Bay on a boat tour. Enjoy breathtaking views of the Miami skyline, visit islands, and maybe even catch a glimpse of dolphins or manatees.\"},\n",
      "{\"name\": \"Visit the Art Deco Historic District\", \"justification\": \"The Art Deco Historic District in South Beach is a must-visit for architecture lovers. Take a self-guided tour to admire the colorful pastel buildings and learn about the history of Miami Beach's iconic architecture.\"},\n",
      "{\"name\": \"Try water sports at Crandon Park\", \"justification\": \"Crandon\n"
     ]
    }
   ],
   "source": [
    "with open('reviews/miami_beach.txt', 'r') as f:\n",
    "    miami_reviews = f.read()\n",
    "\n",
    "\n",
    "out = generate_gpt_output('review_augmented_1.jinja2', destination='Miami Beach', trip_length='a weekend', context=\"college friends\", reviews=miami_reviews)\n",
    "print(out)"
   ]
  }
 ],
 "metadata": {
  "kernelspec": {
   "display_name": "Python 3",
   "language": "python",
   "name": "python3"
  },
  "language_info": {
   "codemirror_mode": {
    "name": "ipython",
    "version": 3
   },
   "file_extension": ".py",
   "mimetype": "text/x-python",
   "name": "python",
   "nbconvert_exporter": "python",
   "pygments_lexer": "ipython3",
   "version": "3.11.5"
  },
  "orig_nbformat": 4
 },
 "nbformat": 4,
 "nbformat_minor": 2
}
