{
 "cells": [
  {
   "cell_type": "markdown",
   "metadata": {},
   "source": [
    "## Initialization"
   ]
  },
  {
   "cell_type": "code",
   "execution_count": 1,
   "metadata": {},
   "outputs": [],
   "source": [
    "%reload_ext dotenv\n",
    "%dotenv"
   ]
  },
  {
   "cell_type": "code",
   "execution_count": 2,
   "metadata": {},
   "outputs": [],
   "source": [
    "from jinja2 import Environment, FileSystemLoader\n",
    "import openai\n",
    "import os\n",
    "\n",
    "# Assuming the Jinja2 template file is in the same directory as this script\n",
    "file_loader = FileSystemLoader('templates')\n",
    "env = Environment(loader=file_loader)\n",
    "\n",
    "# load from .env\n",
    "openai.api_key = os.getenv(\"OPENAI_API_KEY\")"
   ]
  },
  {
   "cell_type": "code",
   "execution_count": 3,
   "metadata": {},
   "outputs": [],
   "source": [
    "def generate_gpt_output(prompt_name, **kwargs):\n",
    "        template = env.get_template(prompt_name)\n",
    "\n",
    "\n",
    "        prompt = template.render(**kwargs)\n",
    "        print(prompt)\n",
    "        # Define the variables to be used in the template\n",
    "        messages = [\n",
    "                {\"role\": \"system\", \"content\": \"You are a helpful assistant.\"},\n",
    "                {\"role\": \"user\", \"content\": prompt},\n",
    "        ]\n",
    "\n",
    "        # run the prompt with gpt3.5\n",
    "        response = openai.ChatCompletion.create(\n",
    "            model=\"gpt-3.5-turbo\",\n",
    "            messages=messages,\n",
    "            temperature=kwargs['temperature'] if 'temperature' in kwargs else 0.9,\n",
    "            max_tokens=kwargs['max_tokens'] if 'max_tokens' in kwargs else 500,\n",
    "        )\n",
    "\n",
    "        # Print the response\n",
    "        return response['choices'][0]['message']['content']\n"
   ]
  },
  {
   "cell_type": "markdown",
   "metadata": {},
   "source": [
    "## Internal Knowledge"
   ]
  },
  {
   "cell_type": "code",
   "execution_count": 4,
   "metadata": {},
   "outputs": [
    {
     "name": "stdout",
     "output_type": "stream",
     "text": [
      "I'm going on a trip to Paris for 3 days.\n",
      "\n",
      "Give me suggestions for things to do with my wife and young children there. \n",
      "Format the output as a JSON list as follows:\n",
      "[{\"name\":<name of thing to do 1>, \"justification\":<why is thing to do 1 a good option>}, {\"name\":<name of thing to do 2>, \"justification\":<why is thing to do 2 a good option>}, ...]\n",
      "[\n",
      "  {\n",
      "    \"name\": \"Visit the Eiffel Tower\",\n",
      "    \"justification\": \"The Eiffel Tower is an iconic landmark in Paris that offers stunning panoramic views of the city. It's a great opportunity for your children to learn about its history and enjoy the view from the top.\"\n",
      "  },\n",
      "  {\n",
      "    \"name\": \"Explore the Louvre Museum\",\n",
      "    \"justification\": \"The Louvre Museum houses the famous Mona Lisa painting and many other art masterpieces. It offers special activities and workshops for children, making it an educational and enjoyable experience for the whole family.\"\n",
      "  },\n",
      "  {\n",
      "    \"name\": \"Take a boat ride on the Seine River\",\n",
      "    \"justification\": \"A boat ride on the Seine River allows you to see Paris from a different perspective while enjoying the beautiful scenery. It's a relaxing and fun activity that your children will love.\"\n",
      "  },\n",
      "  {\n",
      "    \"name\": \"Visit Disneyland Paris\",\n",
      "    \"justification\": \"Disneyland Paris is a magical theme park where your children can meet their favorite Disney characters, enjoy thrilling rides, and watch spectacular shows. It guarantees a day full of excitement and joy for the whole family.\"\n",
      "  },\n",
      "  {\n",
      "    \"name\": \"Stroll around Montmartre\",\n",
      "    \"justification\": \"Montmartre is a charming neighborhood known for its artistic history and bohemian atmosphere. You can visit the iconic Sacré-Cœur Basilica, explore the artist's square, and enjoy street performances. It's a great place for a leisurely family walk.\"\n",
      "  }\n",
      "]\n"
     ]
    }
   ],
   "source": [
    "out = generate_gpt_output('internal_knowledge_1.jinja2', destination='Paris', trip_length='3 days', context=\"my wife and young children\")\n",
    "print(out)"
   ]
  },
  {
   "cell_type": "code",
   "execution_count": 5,
   "metadata": {},
   "outputs": [
    {
     "name": "stdout",
     "output_type": "stream",
     "text": [
      "I'm going on a trip to Hamilton for 1 week.\n",
      "\n",
      "Give me suggestions for things to do with older parents there. \n",
      "Format the output as a JSON list as follows:\n",
      "[{\"name\":<name of thing to do 1>, \"justification\":<why is thing to do 1 a good option>}, {\"name\":<name of thing to do 2>, \"justification\":<why is thing to do 2 a good option>}, ...]\n",
      "[{\"name\": \"Visit the Royal Botanical Gardens\", \"justification\": \"The Royal Botanical Gardens in Hamilton is a beautiful place to explore and enjoy nature. It offers a variety of walking trails, serene gardens, and stunning views. It's a great option for older parents who appreciate peaceful surroundings and natural beauty.\"},\n",
      "{\"name\": \"Explore Dundurn Castle\", \"justification\": \"Dundurn Castle is a historic mansion with beautiful grounds located in Hamilton. It provides a glimpse into the city's past and offers guided tours to learn about its history. Older parents who enjoy history and architecture will appreciate this attraction.\"},\n",
      "{\"name\": \"Take a cruise on Hamilton Harbour\", \"justification\": \"A relaxing cruise on Hamilton Harbour is a great way to spend time with older parents. They can enjoy the scenic views of the waterfront, learn about the city's maritime history, and have a leisurely time on the water.\"},\n",
      "{\"name\": \"Visit the Art Gallery of Hamilton\", \"justification\": \"The Art Gallery of Hamilton is a fantastic option for art enthusiasts or those who appreciate visual arts. It features a diverse collection of Canadian and international art, including paintings, sculptures, and contemporary pieces.\"},\n",
      "{\"name\": \"Take a stroll along Bayfront Park\", \"justification\": \"Bayfront Park is a lovely waterfront park offering beautiful views of Lake Ontario. Older parents can enjoy a peaceful walk along the waterfront, relax on benches, and take in the serene atmosphere of the park.\"},\n",
      "{\"name\": \"Explore the Canadian Warplane Heritage Museum\", \"justification\": \"The Canadian Warplane Heritage Museum is a must-visit for aviation enthusiasts and history buffs. It houses a large collection of military aircraft and offers educational exhibits. Older parents who have an interest in aviation or World War II history will find this museum fascinating.\"},\n",
      "{\"name\": \"Visit the Hamilton Farmers' Market\", \"justification\": \"The Hamilton Farmers' Market is a lively place where older parents can explore a wide variety of local produce, baked goods, and specialty food items. It's a great opportunity to support local businesses, try delicious foods, and experience the vibrant atmosphere of the market.\"},\n",
      "{\"name\": \"Take a scenic drive along the Niagara Escarpment\", \"justification\": \"The Niagara Escarpment offers breathtaking views and is a designated UNESCO World Biosphere Reserve. Taking a scenic drive along its winding roads allows older parents to admire the natural beauty, picturesque landscapes, and charming small towns along the way.\"}]\n"
     ]
    }
   ],
   "source": [
    "out = generate_gpt_output('internal_knowledge_1.jinja2', destination='Hamilton', trip_length='1 week', context=\"older parents\")\n",
    "print(out)"
   ]
  },
  {
   "cell_type": "code",
   "execution_count": 7,
   "metadata": {},
   "outputs": [
    {
     "name": "stdout",
     "output_type": "stream",
     "text": [
      "I'm going on a trip to Miami Beach for a weekend.\n",
      "\n",
      "Give me suggestions for things to do with college friends there. \n",
      "Format the output as a JSON list as follows:\n",
      "[{\"name\":<name of thing to do 1>, \"justification\":<why is thing to do 1 a good option>}, {\"name\":<name of thing to do 2>, \"justification\":<why is thing to do 2 a good option>}, ...]\n",
      "[{\"name\": \"South Beach\", \"justification\": \"South Beach is one of the most popular attractions in Miami Beach, known for its beautiful sandy beaches, vibrant nightlife, and trendy restaurants and bars.\"},\n",
      "{\"name\": \"Art Deco Historic District\", \"justification\": \"The Art Deco Historic District is a must-visit for architecture enthusiasts, with its colorful and iconic buildings from the 1930s and 1940s.\"},\n",
      "{\"name\": \"Wynwood Walls\", \"justification\": \"Wynwood Walls is an outdoor street art museum showcasing vibrant and creative murals by local and international artists, making it a great place for art lovers.\"},\n",
      "{\"name\": \"Boat Tour of Biscayne Bay\", \"justification\": \"A boat tour of Biscayne Bay is a fun and scenic way to explore Miami Beach's waterfront, with stunning views of the city skyline and the chance to spot marine life.\"},\n",
      "{\"name\": \"Lincoln Road Mall\", \"justification\": \"Lincoln Road Mall is a pedestrian-only street lined with shops, restaurants, and cafes, offering a great place to shop, dine, and people-watch.\"},\n",
      "{\"name\": \"Pérez Art Museum Miami (PAMM)\", \"justification\": \"PAMM is a contemporary art museum located in downtown Miami, featuring a diverse collection of modern and contemporary art, perfect for art enthusiasts.\"},\n",
      "{\"name\": \"Miami Seaquarium\", \"justification\": \"The Miami Seaquarium is a popular attraction for animal lovers, offering various shows and exhibits featuring dolphins, sea lions, and other marine animals.\"},\n",
      "{\"name\": \"Everglades National Park\", \"justification\": \"Just a short drive from Miami Beach, Everglades National Park is a unique and diverse ecosystem, providing opportunities for hiking, wildlife spotting, and airboat tours.\"},\n",
      "{\"name\": \"Nightclubbing in Miami\", \"justification\": \"Miami is famous for its vibrant nightlife scene, with numerous nightclubs and bars offering a variety of music genres and experiences for those looking to dance the night away.\"},\n",
      "{\"name\": \"Miami Beach Food Tour\", \"justification\": \"A food tour in Miami Beach allows you to experience the diverse culinary scene, taste delicious local dishes, and learn about the city's cultural history through its food.\"}]\n"
     ]
    }
   ],
   "source": [
    "out = generate_gpt_output('internal_knowledge_1.jinja2', destination='Miami Beach', trip_length='a weekend', context=\"college friends\")\n",
    "print(out)"
   ]
  },
  {
   "cell_type": "markdown",
   "metadata": {},
   "source": [
    "## Review-Augmented"
   ]
  },
  {
   "cell_type": "code",
   "execution_count": 8,
   "metadata": {},
   "outputs": [
    {
     "name": "stdout",
     "output_type": "stream",
     "text": [
      "I'm going on a trip to Miami Beach for a weekend.\n",
      "\n",
      "Here are some reviews about Miami Beach. Use them to help create a list of things to do there:\n",
      "Amazing city with diversity and energy. Appreciation of properties exceeds most of the nation, so the housing market is expensive. Schools? City has two above average elementary schools, North Beach Elem (located actually in mid-beach) and South Pointe Elem. The high school has a Intl Baccalaureate program. South Beach is a tourist mess these days with high crime and dirty streets. Mid Beach is the sleepy suburban area. North Beach is more affordable, but residents have to use private schools or finagle a way into other public schools.\n",
      "Miami Beach was a wonderful experience in my life. I had the opportunity to live in a place that felt like home, with the beach, locals and people full of life.In this location you will be able to feel the true experience of living in Miami. You have food, clothing and entertainment stores on every corner. On the other hand, sometimes there are homeless, which is not the best, but they are respectful and not disturbing at all. In conclusion, for me this place left a huge mark on me; I would love to be able to return and live here again in the future.\n",
      "I loved the outdoor life and green love that is commonly seen around Miami Beach. Everywhere you go there's a vibe like no other. Residents love to go to the beach, roller skate, exercise, and overall spend each of their days as an ongoing party as if they were on vacation each and every week. However, I have noticed that in my community there is a grave issue with homelessness, particularly regarding individuals with appeared mental impairment, and I would love to see these individuals in my community be taken care of in centers where they can get appropriate treatment, resources like counseling, and participate in programs to recuperate their life.\n",
      "North Beach is great for families. Quiet neighborhoods. Easy access to the beach and lots of space for walking.\n",
      "Miami Beach is one of the most walkable cities. It should be one of the most bicycle friendly too but the reviews are mixed. I lived there as a child and of course its grown and is a huge spring break place. That can be good to some and bad for others. My biggest concern is that it will be under water in the not-too-distant future. I've read every scientific and news article and in sum they paint a negative future- street heightening is controversial but seems helpful. Real estate of course is going to suffer. Although my name is Fischer it does not mean I want to swim everywhere.\n",
      "I've lived in Miami Beach for 15 years and I just love it because of how many vibrant areas there are around town. You can bike anywhere you want with the green-paved bike lanes and because of the proximity of the different services and locales that Miami beach has to offer.\n",
      "I loved the outdoor life and green love that is commonly seen around Miami Beach. Everywhere you go there's a vibe like no other. Residents love to go to the beach, roller skate, exercise, and overall spend each of their days as an ongoing party as if they were on vacation each and every week. However, I have noticed that in my community there is a grave issue with homelessness, particularly regarding individuals with appeared mental impairment, and I would love to see these individuals in my community be taken care of in centers where they can get appropriate treatment, resources like counseling, and participate in programs to recuperate their life.\n",
      "I may be biased, but believe me there is no other place quite like \"the 305,\" or known more commonly as Miami Beach. Hip Hop meets the beach, Wynwood art and palm trees, make the typical Miamian. though I've lived in many, many places; no place has felt like home till I came here.\n",
      "Miami Beach is a beautiful city with lots of diversity in which you can meet people of various backgrounds. You can also enjoy the beach and the parks located near the area which are both entertaining and family-friendly. What I would like to see change in the city would be the overall cleanliness of the streets. Moreover, I would like to see inflation go down in order for prices to be more in line with people's wages.\n",
      "Safety has to be improved for residents and tourists. Unfortunately the perception of the city as a vacation and party area provides unsecure environments.\n",
      "I love the beauty of the city. I'd like to see more diversity and acceptance of all races in Miami Beach. As the population is heavily of Latino descent, I feel they are disproportionately represented in positions of power here in this city.\n",
      "I like that it is a pedestrian friendly city and that we have a nice beach. I like diversity and I find that living here.\n",
      "Great place to live, friendly neighbors, blue skies, walk to the beach, what more can you ask for? Police everywhere to keep it safe, 4 parks within 5 blocks of my apartment.\n",
      "I love it down here. I was born and raised in Detroit Michigan, with all the snow and shivers. Now, getting to live in this beautiful palm tree'd paradise is just a dream come true.\n",
      "I love the sense of community that we have and the easy going life style that everyone has. I have lived on the beach my whole life and never had any problems with security or ever felt un easy, even in the busy night life. Things are very close to each other which makes it easy to walk or ride bike since traffic can be heavy at times.\n",
      "\n",
      "\n",
      "Give me suggestions for things to do with college friends there. \n",
      "Format the output as a JSON list as follows:\n",
      "[{\"name\":<name of thing to do 1>, \"justification\":<why is thing to do 1 a good option>}, {\"name\":<name of thing to do 2>, \"justification\":<why is thing to do 2 a good option>}, ...]\n",
      "[{\"name\": \"Explore South Beach\", \"justification\": \"South Beach is a popular tourist destination with a vibrant atmosphere. You can enjoy the beautiful beach, visit the iconic Art Deco Historic District, and experience the lively nightlife.\"},\n",
      "{\"name\": \"Visit the local parks\", \"justification\": \"Miami Beach has several parks within close proximity. You and your friends can have picnics, play sports, or simply relax in the green spaces.\"},\n",
      "{\"name\": \"Rent bicycles and explore the city\", \"justification\": \"Miami Beach is known for being walkable and bike-friendly. Renting bicycles is a great way to explore the city, enjoy the outdoor life, and visit different neighborhoods.\"},\n",
      "{\"name\": \"Take a boat tour\", \"justification\": \"Miami Beach offers various boat tours that allow you to experience the city from a different perspective. You can cruise along the coast, admire the skyline, and even spot some marine life.\"},\n",
      "{\"name\": \"Visit Wynwood Art District\", \"justification\": \"Wynwood is a neighborhood known for its vibrant street art. You and your friends can explore the colorful murals, visit art galleries, and enjoy the unique artistic atmosphere.\"},\n",
      "{\"name\": \"Try water sports at the beach\", \"justification\": \"Miami Beach is a perfect place to try different water sports such as paddleboarding, jet skiing, or parasailing. You can enjoy the sunny weather and have fun in the ocean.\"},\n",
      "{\"name\": \"Experience the local cuisine\", \"justification\": \"Miami Beach offers a diverse culinary scene. You can try delicious seafood, Latin American dishes, and international cuisines. Explore local restaurants and enjoy a flavorful dining experience.\"},\n",
      "{\"name\": \"Attend a live music event\", \"justification\": \"Miami Beach hosts various live music events throughout the year. Check out the local event calendars and attend a concert or music festival with your friends.\"},\n",
      "{\"name\": \"Visit the Miami Beach Botanical Garden\", \"justification\": \"The botanical garden is a peaceful oasis in the city. You can take a leisurely stroll, admire the beautiful plants and flowers, and enjoy the tranquility of nature.\"},\n",
      "{\"name\": \"Go shopping on Lincoln Road\", \"justification\": \"Lincoln Road is a pedestrian-friendly street with numerous shops, boutiques, and restaurants. It's a great place to shop for trendy fashion, unique souvenirs, and enjoy outdoor dining.\"}]\n"
     ]
    }
   ],
   "source": [
    "with open('reviews/miami_beach.txt', 'r') as f:\n",
    "    miami_reviews = f.read()\n",
    "\n",
    "\n",
    "out = generate_gpt_output('review_augmented_1.jinja2', destination='Miami Beach', trip_length='a weekend', context=\"college friends\", reviews=miami_reviews, max_tokens=1000)\n",
    "print(out)"
   ]
  },
  {
   "cell_type": "code",
   "execution_count": 10,
   "metadata": {},
   "outputs": [
    {
     "name": "stdout",
     "output_type": "stream",
     "text": [
      "I'm going on a trip to Detroit for a week.\n",
      "\n",
      "Here are some reviews about Detroit. Use them to help create a list of things to do there:\n",
      "Most my childhood was spent in Detroit visiting family, enjoying the many parks, museums, restaurants, festivals, and Tiger games. I saw Detroit at it's best and I saw its decline. It was heartbreaking for my parents who grew up in Detroit during its heyday. Now I see Detroit through my son's eyes as he frequently visits with friends. We spent the day exploring Midtown, Campus Martius, and Belle Isle. We wanted to show my mother Detroit's comeback. I was amazing to see people out again enjoying the many cafes and restaurants. We wandered through new boutiques and most everyone we met smiled and said \"hello\". My heart is always with Detroit!\n",
      "There is a lot to do downtown, and the city is safe by Wayne and Detroit Mercy. Great food options and they have a lot of versatile events. They recently just had a salsa party where they teach you how to dance! What I like the most is that no matter what the season is, there are a lot of things to do. The public school systems are not always the greatest, I believe that is something that could be worked on. Nightlife is great, there are many bars and restaurants open late. The market is high right now but it is a beautiful area. The commute is about 15 minutes by car with traffic. There's been more diversity over the years and there are a lot of job opportunities that have been only increasing over time.\n",
      "The beloved Motor City. I have lived here for most of my life and have loved living here. Growing up in an urban environment, there are certain experiences that you get with living in the city that you don't get living in the suburbs. The city has made efforts throughout the years to make this place a place to visit again. New parks have been added. Abandoned homes are being torn down, and old roads are being repaired. With all these new improvements being made, there are still some gaps that need to be filled. Tax dollars could be used to provide better lunches for kids in school. Parks are being restored, but are the ones in rundown neighborhoods being rebuilt? I love my city and obviously, there is always room for improvement, but the Motor City is my home and I am proud to live here.\n",
      "I am born and raised from detroit Michigan. Detroit has a lot of things to offer. Detroit is known for its history, music, sports, and art. There are many fun and educational places to visit in Detroit. For example museums, art galleries, and cultural events. Detroit is know as motor city, and is also know for Motown. Some of Detroits famous sports team are known as Tigers, Pistons, and Red Wings.\n",
      "I love my city, it can be very beautiful, connected, strong, and unbeatable. It has good and bad like any other major city but unless you're in a bad lifestyle it isn't hard to not be put in a compromising situation. Plenty of friendly helpful people and great communities, impressive entertainment and food, and amazing organizations.\n",
      "Was once a great city now everything is in its former shell. There are no movie theatres, no grocery stores, no department stores, and mostly everything is abandoned.\n",
      "I like the way the city is coming alive with new funding and projects to develop our city back into the it once was.\n",
      "Detroit is a beautiful city. I have lived here my entire life. I love going to Belle Isle in the summer to spend time with my friends and family. I would like to see a change in the amount of violence that occurs every day here.\n",
      "I have enjoyed the experiences and challenges that have helped shape me into the women I am today. No matter how far away I move Detroit will always be my home!\n",
      "The diversity in Detroit is different and helps you connect to other communities. I would like to see more people like the Latino community, and the Middle Eastern community involved in more of the jobs available here in Detroit.\n",
      "beautiful location. Not enough resources readily available. Buses tend to not truly serve the citizens and alot of the decision making is made by those not even part of the city.\n",
      "it is a great up and coming city with a lot of potential and opportunity. Lots of places to eat, restaurants, festivals, nature places, sports and fun activities to do, great for young professionals.\n",
      "It is a beautiful city with different people and cultures. I have lived in Detroit my whole life and I plan to stay here, but move to a nicer neighborhood when I get older. This is Motor City, so most people drive cars and I like seeing the variety that I don't see in other neighborhoods. In this city, there is a lot of art and music along with passionate people. However, the news and other outlets show bad times and ignore good deeds. I wish people in the city cared about it more. Most entrepreneurs move outside the city to promote their businesses, but use Detroit for brownie points. I love this city. Even if I am sheltered and I have not seen the worst part, there is hope. In my community cops are looked down upon, but in Detroit there is a cop for each demographic of the city: African Americans, Hispanics, Whites, and a few Asians. I appreciate the city seeing problems in other cities and trying its best to prevent them here.\n",
      "I love Detroit for the inspiring stories it has created throughout history. The Downtown area is absolutely stunning and it makes the city feel very welcoming and inviting.\n",
      "I have lived in Detroit, MI all my life. Growing up here was a little rough. We had many abandon houses and empty lots. There also was high crime activity in the city and outskirts. Now Detroit has done a complete turnaround. Our Downtown area was a place you really didn't want to go, unless you had a meeting or wanted to go to the Casino. Now Downtown Detroit is where you want to be. I love when my guest come in town from different states, and I can take them Downtown. The view of the buildings and even to go to the Detroit River walk to take a glance into Canada is amazing. There are all sorts of fun things to do now for all ages. My family loves visiting Downtown we can ride scooters, bikes, and even play some street games. Also, the food choices are unlimited, we literally have restaurants for whatever your appetite desires. In the winter we have an ice-skating rink that the entire family can enjoy. Date night ice skating and drinking hot chocolate is truly amazing. I love DETROIT.\n",
      "\n",
      "\n",
      "Give me suggestions for things to do with my immediate family and siblings there. \n",
      "Format the output as a JSON list as follows:\n",
      "[{\"name\":<name of thing to do 1>, \"justification\":<why is thing to do 1 a good option>}, {\"name\":<name of thing to do 2>, \"justification\":<why is thing to do 2 a good option>}, ...]\n",
      "[{\"name\": \"Visit the parks\", \"justification\": \"Detroit has many parks that offer a great opportunity for outdoor activities and spending quality time with your family.\"},\n",
      "{\"name\": \"Explore museums\", \"justification\": \"Detroit is known for its museums, which provide educational and cultural experiences for all ages.\"},\n",
      "{\"name\": \"Attend festivals\", \"justification\": \"Detroit hosts various festivals throughout the year, offering a chance to immerse yourself in the local culture and enjoy live music, food, and entertainment.\"},\n",
      "{\"name\": \"Catch a Tiger game\", \"justification\": \"Experience the excitement of watching a Detroit Tigers baseball game and cheer for the home team.\"},\n",
      "{\"name\": \"Explore Midtown\", \"justification\": \"Take a stroll through the vibrant neighborhood of Midtown, where you can find boutiques, cafes, and restaurants to explore.\"},\n",
      "{\"name\": \"Visit Belle Isle\", \"justification\": \"Spend a day on Belle Isle, a beautiful island park with stunning views, picnic areas, and opportunities for outdoor recreation.\"},\n",
      "{\"name\": \"Experience the nightlife\", \"justification\": \"Enjoy the vibrant nightlife in Detroit, with a variety of bars and restaurants open late.\"},\n",
      "{\"name\": \"Explore downtown\", \"justification\": \"Discover the revitalized downtown area of Detroit, with its stunning architecture, scenic riverfront, and diverse food options.\"},\n",
      "{\"name\": \"Visit art galleries\", \"justification\": \"Detroit is known for its art scene, so visiting art galleries can be a great way to appreciate local talent and immerse yourself in the city's creative atmosphere.\"},\n",
      "{\"name\": \"Attend cultural events\", \"justification\": \"Experience the rich diversity of Detroit by attending cultural events, where you can learn about different communities and their traditions.\"}]\n"
     ]
    }
   ],
   "source": [
    "with open('reviews/detroit.txt', 'r') as f:\n",
    "    detroit_reviews = f.read()\n",
    "\n",
    "\n",
    "out = generate_gpt_output('review_augmented_1.jinja2', destination='Detroit', trip_length='a week', context=\"my immediate family and siblings\", reviews=detroit_reviews, max_tokens=1000)\n",
    "print(out)"
   ]
  },
  {
   "cell_type": "code",
   "execution_count": 11,
   "metadata": {},
   "outputs": [
    {
     "name": "stdout",
     "output_type": "stream",
     "text": [
      "I'm going on a trip to Detroit for a week.\n",
      "\n",
      "Here are some reviews about Detroit. Use them to help create a list of things to do there:\n",
      "Most my childhood was spent in Detroit visiting family, enjoying the many parks, museums, restaurants, festivals, and Tiger games. I saw Detroit at it's best and I saw its decline. It was heartbreaking for my parents who grew up in Detroit during its heyday. Now I see Detroit through my son's eyes as he frequently visits with friends. We spent the day exploring Midtown, Campus Martius, and Belle Isle. We wanted to show my mother Detroit's comeback. I was amazing to see people out again enjoying the many cafes and restaurants. We wandered through new boutiques and most everyone we met smiled and said \"hello\". My heart is always with Detroit!\n",
      "There is a lot to do downtown, and the city is safe by Wayne and Detroit Mercy. Great food options and they have a lot of versatile events. They recently just had a salsa party where they teach you how to dance! What I like the most is that no matter what the season is, there are a lot of things to do. The public school systems are not always the greatest, I believe that is something that could be worked on. Nightlife is great, there are many bars and restaurants open late. The market is high right now but it is a beautiful area. The commute is about 15 minutes by car with traffic. There's been more diversity over the years and there are a lot of job opportunities that have been only increasing over time.\n",
      "The beloved Motor City. I have lived here for most of my life and have loved living here. Growing up in an urban environment, there are certain experiences that you get with living in the city that you don't get living in the suburbs. The city has made efforts throughout the years to make this place a place to visit again. New parks have been added. Abandoned homes are being torn down, and old roads are being repaired. With all these new improvements being made, there are still some gaps that need to be filled. Tax dollars could be used to provide better lunches for kids in school. Parks are being restored, but are the ones in rundown neighborhoods being rebuilt? I love my city and obviously, there is always room for improvement, but the Motor City is my home and I am proud to live here.\n",
      "I am born and raised from detroit Michigan. Detroit has a lot of things to offer. Detroit is known for its history, music, sports, and art. There are many fun and educational places to visit in Detroit. For example museums, art galleries, and cultural events. Detroit is know as motor city, and is also know for Motown. Some of Detroits famous sports team are known as Tigers, Pistons, and Red Wings.\n",
      "I love my city, it can be very beautiful, connected, strong, and unbeatable. It has good and bad like any other major city but unless you're in a bad lifestyle it isn't hard to not be put in a compromising situation. Plenty of friendly helpful people and great communities, impressive entertainment and food, and amazing organizations.\n",
      "Was once a great city now everything is in its former shell. There are no movie theatres, no grocery stores, no department stores, and mostly everything is abandoned.\n",
      "I like the way the city is coming alive with new funding and projects to develop our city back into the it once was.\n",
      "Detroit is a beautiful city. I have lived here my entire life. I love going to Belle Isle in the summer to spend time with my friends and family. I would like to see a change in the amount of violence that occurs every day here.\n",
      "I have enjoyed the experiences and challenges that have helped shape me into the women I am today. No matter how far away I move Detroit will always be my home!\n",
      "The diversity in Detroit is different and helps you connect to other communities. I would like to see more people like the Latino community, and the Middle Eastern community involved in more of the jobs available here in Detroit.\n",
      "beautiful location. Not enough resources readily available. Buses tend to not truly serve the citizens and alot of the decision making is made by those not even part of the city.\n",
      "it is a great up and coming city with a lot of potential and opportunity. Lots of places to eat, restaurants, festivals, nature places, sports and fun activities to do, great for young professionals.\n",
      "It is a beautiful city with different people and cultures. I have lived in Detroit my whole life and I plan to stay here, but move to a nicer neighborhood when I get older. This is Motor City, so most people drive cars and I like seeing the variety that I don't see in other neighborhoods. In this city, there is a lot of art and music along with passionate people. However, the news and other outlets show bad times and ignore good deeds. I wish people in the city cared about it more. Most entrepreneurs move outside the city to promote their businesses, but use Detroit for brownie points. I love this city. Even if I am sheltered and I have not seen the worst part, there is hope. In my community cops are looked down upon, but in Detroit there is a cop for each demographic of the city: African Americans, Hispanics, Whites, and a few Asians. I appreciate the city seeing problems in other cities and trying its best to prevent them here.\n",
      "I love Detroit for the inspiring stories it has created throughout history. The Downtown area is absolutely stunning and it makes the city feel very welcoming and inviting.\n",
      "I have lived in Detroit, MI all my life. Growing up here was a little rough. We had many abandon houses and empty lots. There also was high crime activity in the city and outskirts. Now Detroit has done a complete turnaround. Our Downtown area was a place you really didn't want to go, unless you had a meeting or wanted to go to the Casino. Now Downtown Detroit is where you want to be. I love when my guest come in town from different states, and I can take them Downtown. The view of the buildings and even to go to the Detroit River walk to take a glance into Canada is amazing. There are all sorts of fun things to do now for all ages. My family loves visiting Downtown we can ride scooters, bikes, and even play some street games. Also, the food choices are unlimited, we literally have restaurants for whatever your appetite desires. In the winter we have an ice-skating rink that the entire family can enjoy. Date night ice skating and drinking hot chocolate is truly amazing. I love DETROIT.\n",
      "\n",
      "\n",
      "Give me suggestions for things to do with my friends in their early 20s there. \n",
      "Format the output as a JSON list as follows:\n",
      "[{\"name\":<name of thing to do 1>, \"justification\":<why is thing to do 1 a good option>}, {\"name\":<name of thing to do 2>, \"justification\":<why is thing to do 2 a good option>}, ...]\n",
      "[{\"name\": \"Explore Midtown\", \"justification\": \"Midtown is a vibrant neighborhood with plenty of cafes, boutiques, and restaurants to explore. It offers a mix of cultural attractions, including museums and art galleries, making it a great option for young adults.\"},\n",
      "{\"name\": \"Visit Belle Isle\", \"justification\": \"Belle Isle is a beautiful island park located in the Detroit River. It offers a range of outdoor activities, such as picnicking, walking trails, and even a beach. It's a great place to relax and spend time with friends.\"},\n",
      "{\"name\": \"Experience Detroit's Nightlife\", \"justification\": \"Detroit has a thriving nightlife scene with a variety of bars and restaurants open late. It's a perfect option for young adults looking to have a fun night out with friends.\"},\n",
      "{\"name\": \"Attend Festivals\", \"justification\": \"Detroit hosts numerous festivals throughout the year, offering a mix of music, art, and cultural events. These festivals provide a lively atmosphere and are a great way to enjoy the city's diverse culture.\"},\n",
      "{\"name\": \"Visit Museums\", \"justification\": \"Detroit is known for its museums, offering opportunities to explore art, history, and science. The Detroit Institute of Arts, the Henry Ford Museum, and the Motown Museum are just a few options to consider.\"},\n",
      "{\"name\": \"Catch a Tigers Game\", \"justification\": \"Detroit is home to the Tigers, a Major League Baseball team. Watching a Tigers game at Comerica Park can be a thrilling experience for sports enthusiasts.\"},\n",
      "{\"name\": \"Explore Downtown\", \"justification\": \"Downtown Detroit has undergone revitalization in recent years and now offers a bustling urban environment. From shopping to dining, there's plenty to explore for young adults.\"},\n",
      "{\"name\": \"Enjoy Live Music\", \"justification\": \"Detroit has a rich music history and is known as the birthplace of Motown. Check out local venues and live music events to experience the city's vibrant music scene.\"},\n",
      "{\"name\": \"Go Ice Skating at Campus Martius\", \"justification\": \"During winter, head to Campus Martius Park where you can enjoy ice skating with your friends. It's a fun and festive activity that captures the spirit of the season.\"},\n",
      "{\"name\": \"Take a Detroit River Walk\", \"justification\": \"Stroll along the Detroit River Walk and enjoy the scenic views of the riverfront. It's a relaxing way to spend time outdoors and appreciate the city's natural beauty.\"}]\n"
     ]
    }
   ],
   "source": [
    "with open('reviews/detroit.txt', 'r') as f:\n",
    "    detroit_reviews = f.read()\n",
    "\n",
    "\n",
    "out = generate_gpt_output('review_augmented_1.jinja2', destination='Detroit', trip_length='a week', context=\"my friends in their early 20s\", reviews=detroit_reviews, max_tokens=1000)\n",
    "print(out)"
   ]
  }
 ],
 "metadata": {
  "kernelspec": {
   "display_name": "Python 3",
   "language": "python",
   "name": "python3"
  },
  "language_info": {
   "codemirror_mode": {
    "name": "ipython",
    "version": 3
   },
   "file_extension": ".py",
   "mimetype": "text/x-python",
   "name": "python",
   "nbconvert_exporter": "python",
   "pygments_lexer": "ipython3",
   "version": "3.11.5"
  },
  "orig_nbformat": 4
 },
 "nbformat": 4,
 "nbformat_minor": 2
}
